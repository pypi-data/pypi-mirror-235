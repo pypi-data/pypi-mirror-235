{
 "cells": [
  {
   "cell_type": "code",
   "execution_count": null,
   "id": "32a20aa4-8e54-48c3-8d86-75fb2bc9d2fd",
   "metadata": {},
   "outputs": [],
   "source": [
    "def a():\n",
    "    if a > 1:\n",
    "        return\n",
    "        \n",
    "    return"
   ]
  }
 ],
 "metadata": {
  "kernelspec": {
   "display_name": "Python 3 (ipykernel)",
   "language": "python",
   "name": "python3"
  },
  "language_info": {
   "codemirror_mode": {
    "name": "ipython",
    "version": 3
   },
   "file_extension": ".py",
   "mimetype": "text/x-python",
   "name": "python",
   "nbconvert_exporter": "python",
   "pygments_lexer": "ipython3",
   "version": "3.10.12"
  }
 },
 "nbformat": 4,
 "nbformat_minor": 5
}
