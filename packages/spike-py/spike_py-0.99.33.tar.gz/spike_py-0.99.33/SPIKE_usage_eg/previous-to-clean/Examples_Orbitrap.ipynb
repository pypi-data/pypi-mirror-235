{
 "cells": [
  {
   "cell_type": "markdown",
   "metadata": {},
   "source": [
    "#<a id=\"Some_examples_on_how_to_use_SPIKE.\"> Some examples on how to use SPIKE.</a>"
   ]
  },
  {
   "cell_type": "markdown",
   "metadata": {},
   "source": [
    "* simple import of native dataset.\n",
    "\n",
    "* simple FID handling, processing and display\n",
    "\n",
    "* FFT with zerofilling\n",
    "\n",
    "* urQRd : noise-reduction\n",
    "\n",
    "You have first to execute the first two cells, then you can execute independently any of the example cells. \n",
    "We begin first with simple import then we show how to make more elaborated commands involving data treatment algorithms such as urQRd."
   ]
  },
  {
   "cell_type": "code",
   "execution_count": null,
   "metadata": {
    "collapsed": false
   },
   "outputs": [],
   "source": [
    "%matplotlib "
   ]
  },
  {
   "cell_type": "code",
   "execution_count": null,
   "metadata": {
    "collapsed": false
   },
   "outputs": [],
   "source": [
    "cd ../.. "
   ]
  },
  {
   "cell_type": "code",
   "execution_count": null,
   "metadata": {
    "collapsed": false
   },
   "outputs": [],
   "source": [
    "# load scientific environment\n",
    "import spike.Orbitrap as O                 # loads the whole NPKV2 environment, tuned to Orbitrap\n",
    "from spike.File.Thermo import Import_1D    # adds the Thermofisher importer"
   ]
  },
  {
   "cell_type": "markdown",
   "metadata": {},
   "source": [
    "##<a class=\"links\" id=\"Some_examples_on_how_to_use_SPIKE._Import_Orbitrap_DATA\"> Import Orbitrap DATA</a>"
   ]
  },
  {
   "cell_type": "markdown",
   "metadata": {},
   "source": [
    "You enter the filename, then the command `Import_1D()` loads it into memory\n",
    "\n",
    "the data is put into a python variable, that you can handle freely"
   ]
  },
  {
   "cell_type": "code",
   "execution_count": null,
   "metadata": {
    "collapsed": false
   },
   "outputs": [],
   "source": [
    "#put your filename here\n",
    "filename = \"DATA_test/ubiquitin_5_scan_res_30000_1.dat\"\n",
    "o = Import_1D(filename)\n",
    "print o"
   ]
  },
  {
   "cell_type": "markdown",
   "metadata": {},
   "source": [
    "##<a class=\"links\" id=\"Some_examples_on_how_to_use_SPIKE._Show_FID\">  Show FID</a>"
   ]
  },
  {
   "cell_type": "markdown",
   "metadata": {},
   "source": [
    "Then you can apply action to the data by the appending the method name to the variable.\n",
    "The methods may have parameters\n",
    "\n",
    "For instance displaying,\n",
    "You can zoom in, and move around with the graphical tools\n",
    "You can also store picture files (png, pdf, etc..)"
   ]
  },
  {
   "cell_type": "code",
   "execution_count": null,
   "metadata": {
    "collapsed": false
   },
   "outputs": [],
   "source": [
    "o.display(label = \"FID\")"
   ]
  },
  {
   "cell_type": "markdown",
   "metadata": {},
   "source": [
    "##<a class=\"links\" id=\"Some_examples_on_how_to_use_SPIKE._FFT_with_zerofilling\"> FFT with zerofilling</a>"
   ]
  },
  {
   "cell_type": "markdown",
   "metadata": {},
   "source": [
    "methods are applied in sequence on the data, modifying its content, this is call a pipe.\n",
    "\n",
    "`apod_sin(maxi = 0.5)` corresponds to a sine-bell apodisation, with its maxium midway in the FID. (aka Hammng window)"
   ]
  },
  {
   "cell_type": "code",
   "execution_count": null,
   "metadata": {
    "collapsed": false
   },
   "outputs": [],
   "source": [
    "print o\n",
    "o.apod_sin(maxi = 0.5).chsize(o.buffer.size*2).rfft().modulus()\n",
    "o.currentunit = 'm/z'\n",
    "o.display(label = \"zerofill x2\")"
   ]
  },
  {
   "cell_type": "markdown",
   "metadata": {},
   "source": [
    "### FFT with zerofilling, processing cutting the pipes."
   ]
  },
  {
   "cell_type": "markdown",
   "metadata": {},
   "source": [
    "this is strictly equivalent"
   ]
  },
  {
   "cell_type": "code",
   "execution_count": 7,
   "metadata": {
    "collapsed": false
   },
   "outputs": [
    {
     "name": "stdout",
     "output_type": "stream",
     "text": [
      "MIDAS Data File v3.0\n",
      "\n",
      "\n",
      "\n",
      "4194304\n"
     ]
    },
    {
     "data": {
      "text/plain": [
       "Dim 1\n",
       "Axis F1 : Orbitrap axis at 1365.333333 kHz,  8388608 real points,  from mz = 10000.000   to m/z =   25.485  M/DeltaM (M=400) = 1058696"
      ]
     },
     "execution_count": 7,
     "metadata": {},
     "output_type": "execute_result"
    }
   ],
   "source": [
    "# here, we have to reload it again !\n",
    "o = Import_1D('/Volumes/3ToBiak/MassSpec/Orbitrap_data/increasing_resolution/20130523_ubi_5_scan_res_100000_1.dat')\n",
    "o.axis1.currentunit = 'm/z'\n",
    "o.apod_sin(maxi = 0.5)\n",
    "o.chsize(o.buffer.size*4)\n",
    "o.rfft()\n",
    "o.modulus().display(label = \"zerofill x4\")"
   ]
  },
  {
   "cell_type": "markdown",
   "metadata": {},
   "source": [
    "##<a class=\"links\" id=\"Some_examples_on_how_to_use_SPIKE._urQRd\"> urQRd</a>"
   ]
  },
  {
   "cell_type": "markdown",
   "metadata": {},
   "source": [
    "is a preprocessing technique, used for reducing the noise\n",
    "\n",
    "The parameter $k$ given to urQRd is related to the number of expected lines in the spectrum. \n",
    "It should be chosen 2 to 3 times larger than this expected number.\n",
    "\n",
    "Be carefull than the processing time **and** the memory footprint are both proportionnal to this value."
   ]
  },
  {
   "cell_type": "code",
   "execution_count": null,
   "metadata": {
    "collapsed": false
   },
   "outputs": [],
   "source": [
    "o = Import_1D(\"DATA_test/ubiquitin_5_scan_res_30000_1.dat\")\n",
    "o.report()\n",
    "o.currentunit = 'm/z'\n",
    "rank = 30\n",
    "o.urqrd(k = rank).rfft().modulus().display(label = \"urQRd, rank = {}\".format(rank))"
   ]
  },
  {
   "cell_type": "markdown",
   "metadata": {},
   "source": [
    "##<a class=\"links\" id=\"Some_examples_on_how_to_use_SPIKE._Additional_tricks\"> Additional tricks</a>"
   ]
  },
  {
   "cell_type": "markdown",
   "metadata": {},
   "source": [
    "### ipython short cuts"
   ]
  },
  {
   "cell_type": "markdown",
   "metadata": {},
   "source": [
    "there are *many* shortcuts and tricks in IPython, read the doc !\n",
    "\n",
    "a couple of them are really helpful for MS processing\n",
    "* you can execute a cell by hitting `shift-return`\n",
    "* you can get the documentation of any function by adding a ? at the end of its name, eg `o.rfft?`\n",
    "* you can get all possible values by hitting the `<TAB>` key. Try for instance typing `o. <TAB>`"
   ]
  },
  {
   "cell_type": "markdown",
   "metadata": {},
   "source": [
    "### SPIKE arcanes"
   ]
  },
  {
   "cell_type": "markdown",
   "metadata": {},
   "source": [
    "If needed, you can directly manipulate the numeric data held into the SPIKE dataset, \n",
    "the `.get_buffer()` method returns the underlying `numpy` array.\n",
    "The `.set_buffer()` method sets it, data can be real or complex.\n",
    "Do `.adapt_size()` afterwards if you changed the number of points."
   ]
  },
  {
   "cell_type": "code",
   "execution_count": null,
   "metadata": {
    "collapsed": false
   },
   "outputs": [],
   "source": [
    "o = Import_1D(filename)\n",
    "oo = o.copy()\n",
    "oo.chsize(len(o.buffer)/4)          # shorten the FID\n",
    "oo.set_buffer( oo.get_buffer()+800 )   # this adds a value to the data, just for display purpose\n",
    "oo.adapt_size()\n",
    "o.display(label = \"FID\")\n",
    "oo.display(label = \"shorten FID\", new_fig = False)"
   ]
  }
 ],
 "metadata": {
  "kernelspec": {
   "display_name": "Python 2",
   "language": "python",
   "name": "python2"
  },
  "language_info": {
   "codemirror_mode": {
    "name": "ipython",
    "version": 2
   },
   "file_extension": ".py",
   "mimetype": "text/x-python",
   "name": "python",
   "nbconvert_exporter": "python",
   "pygments_lexer": "ipython2",
   "version": "2.7.10"
  }
 },
 "nbformat": 4,
 "nbformat_minor": 0
}
