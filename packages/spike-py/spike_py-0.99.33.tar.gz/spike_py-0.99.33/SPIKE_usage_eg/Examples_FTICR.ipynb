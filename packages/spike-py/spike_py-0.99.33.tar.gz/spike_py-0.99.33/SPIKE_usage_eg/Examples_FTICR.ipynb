{
 "cells": [
  {
   "cell_type": "markdown",
   "metadata": {},
   "source": [
    "# <a id=\"Few_examples_of_how_to_use_SPIKE\"> Few examples of how to use SPIKE</a>"
   ]
  },
  {
   "cell_type": "markdown",
   "metadata": {},
   "source": [
    "* simple import of native dataset.\n",
    "\n",
    "* simple FID\n",
    "\n",
    "* FFT with zerofilling\n",
    "\n",
    "* urQRd\n",
    "\n",
    "You have first to execute the first two cells, then you can execute independently any of the example cells.   \n",
    "We begin first with simple import then we show how to make more elaborated commands involving data processing algorithms such as  urQRd."
   ]
  },
  {
   "cell_type": "code",
   "execution_count": 1,
   "metadata": {},
   "outputs": [
    {
     "name": "stdout",
     "output_type": "stream",
     "text": [
      "Using matplotlib backend: MacOSX\n"
     ]
    }
   ],
   "source": [
    "%matplotlib"
   ]
  },
  {
   "cell_type": "code",
   "execution_count": 2,
   "metadata": {},
   "outputs": [
    {
     "name": "stdout",
     "output_type": "stream",
     "text": [
      "/Users/mad\n"
     ]
    }
   ],
   "source": [
    "cd ../.. "
   ]
  },
  {
   "cell_type": "code",
   "execution_count": 3,
   "metadata": {},
   "outputs": [
    {
     "name": "stdout",
     "output_type": "stream",
     "text": [
      "\n",
      "    ========================\n",
      "          SPIKE\n",
      "    ========================\n",
      "    Version     : 0.99.0\n",
      "    Date        : 06-03-2018\n",
      "    Revision Id : 369\n",
      "    ========================\n",
      "*** Importing  << wavelet >> Failed ***\n",
      "*** Importing  << zoom3D >> Failed ***\n",
      "plugins loaded:\n",
      "rem_ridge,  test,  Peaks,  FTMS_calib,  Bruker_NMR_FT,  PALMA,  sg,  Bucketing,  Linear_prediction,  Fitter,  pg_sane,  bcorr,  urQRd,  fastclean,  sane,  apmin, \n",
      "type spike.plugins.report() for a short description\n",
      "and spike.plugins.report('module_name') for complete documentation on one plugin\n"
     ]
    }
   ],
   "source": [
    "from spike.File.Apex import Import_1D\n",
    "import numpy as np                  # pour faire des calculs\n",
    "import matplotlib.pyplot as plt     # pour afficher les données brutes\n",
    "from spike.FTICR import FTICRData"
   ]
  },
  {
   "cell_type": "markdown",
   "metadata": {},
   "source": [
    "##  Import from Apex"
   ]
  },
  {
   "cell_type": "markdown",
   "metadata": {},
   "source": [
    "Simple import from Apex format"
   ]
  },
  {
   "cell_type": "code",
   "execution_count": 4,
   "metadata": {},
   "outputs": [
    {
     "ename": "Exception",
     "evalue": "You don't have any apexAcquisition.method file in the  /Volumes/3ToBiak/MassSpec/FTICR_data/1D/APO/APOAI_H2OMetOHAF_MS_profile_000001.d folder, please double check the path",
     "output_type": "error",
     "traceback": [
      "\u001b[0;31m---------------------------------------------------------------------------\u001b[0m",
      "\u001b[0;31mException\u001b[0m                                 Traceback (most recent call last)",
      "\u001b[0;32m<ipython-input-4-fa86c4dd9702>\u001b[0m in \u001b[0;36m<module>\u001b[0;34m()\u001b[0m\n\u001b[0;32m----> 1\u001b[0;31m \u001b[0mf\u001b[0m \u001b[0;34m=\u001b[0m \u001b[0mImport_1D\u001b[0m\u001b[0;34m(\u001b[0m\u001b[0;34m\"/Volumes/3ToBiak/MassSpec/FTICR_data/1D/APO/APOAI_H2OMetOHAF_MS_profile_000001.d\"\u001b[0m\u001b[0;34m)\u001b[0m\u001b[0;34m\u001b[0m\u001b[0m\n\u001b[0m\u001b[1;32m      2\u001b[0m \u001b[0mf\u001b[0m\u001b[0;34m.\u001b[0m\u001b[0mreport\u001b[0m\u001b[0;34m(\u001b[0m\u001b[0;34m)\u001b[0m\u001b[0;34m\u001b[0m\u001b[0m\n",
      "\u001b[0;32m/Users/mad/spike/File/Apex.py\u001b[0m in \u001b[0;36mImport_1D\u001b[0;34m(folder, outfile)\u001b[0m\n\u001b[1;32m    112\u001b[0m     \u001b[0;32melse\u001b[0m\u001b[0;34m:\u001b[0m                       \u001b[0;31m# here in 64bit\u001b[0m\u001b[0;34m\u001b[0m\u001b[0m\n\u001b[1;32m    113\u001b[0m         \u001b[0mflag\u001b[0m \u001b[0;34m=\u001b[0m \u001b[0;34m'i'\u001b[0m              \u001b[0;31m# strange, but works here.\u001b[0m\u001b[0;34m\u001b[0m\u001b[0m\n\u001b[0;32m--> 114\u001b[0;31m     \u001b[0mparfilename\u001b[0m \u001b[0;34m=\u001b[0m \u001b[0mlocate_acquisition\u001b[0m\u001b[0;34m(\u001b[0m\u001b[0mfolder\u001b[0m\u001b[0;34m)\u001b[0m\u001b[0;34m\u001b[0m\u001b[0m\n\u001b[0m\u001b[1;32m    115\u001b[0m     \u001b[0mparams\u001b[0m \u001b[0;34m=\u001b[0m \u001b[0mread_param\u001b[0m\u001b[0;34m(\u001b[0m\u001b[0mparfilename\u001b[0m\u001b[0;34m)\u001b[0m\u001b[0;34m\u001b[0m\u001b[0m\n\u001b[1;32m    116\u001b[0m \u001b[0;34m\u001b[0m\u001b[0m\n",
      "\u001b[0;32m/Users/mad/spike/File/Apex.py\u001b[0m in \u001b[0;36mlocate_acquisition\u001b[0;34m(folder)\u001b[0m\n\u001b[1;32m     96\u001b[0m         \u001b[0;32mraise\u001b[0m \u001b[0mException\u001b[0m\u001b[0;34m(\u001b[0m \u001b[0;34m\"You have more than 1 apexAcquisition.method file in the %s folder, using the first one\"\u001b[0m\u001b[0;34m%\u001b[0m\u001b[0mfolder\u001b[0m \u001b[0;34m)\u001b[0m\u001b[0;34m\u001b[0m\u001b[0m\n\u001b[1;32m     97\u001b[0m     \u001b[0;32melif\u001b[0m \u001b[0mlen\u001b[0m\u001b[0;34m(\u001b[0m\u001b[0mL\u001b[0m\u001b[0;34m)\u001b[0m \u001b[0;34m==\u001b[0m \u001b[0;36m0\u001b[0m\u001b[0;34m:\u001b[0m\u001b[0;34m\u001b[0m\u001b[0m\n\u001b[0;32m---> 98\u001b[0;31m         \u001b[0;32mraise\u001b[0m \u001b[0mException\u001b[0m\u001b[0;34m(\u001b[0m \u001b[0;34m\"You don't have any apexAcquisition.method file in the  %s folder, please double check the path\"\u001b[0m\u001b[0;34m%\u001b[0m\u001b[0mfolder\u001b[0m \u001b[0;34m)\u001b[0m\u001b[0;34m\u001b[0m\u001b[0m\n\u001b[0m\u001b[1;32m     99\u001b[0m \u001b[0;34m\u001b[0m\u001b[0m\n\u001b[1;32m    100\u001b[0m     \u001b[0;32mreturn\u001b[0m \u001b[0mL\u001b[0m\u001b[0;34m[\u001b[0m\u001b[0;36m0\u001b[0m\u001b[0;34m]\u001b[0m\u001b[0;34m\u001b[0m\u001b[0m\n",
      "\u001b[0;31mException\u001b[0m: You don't have any apexAcquisition.method file in the  /Volumes/3ToBiak/MassSpec/FTICR_data/1D/APO/APOAI_H2OMetOHAF_MS_profile_000001.d folder, please double check the path"
     ]
    }
   ],
   "source": [
    "f = Import_1D(\"/Volumes/3ToBiak/MassSpec/FTICR_data/1D/APO/APOAI_H2OMetOHAF_MS_profile_000001.d\")\n",
    "f.report()"
   ]
  },
  {
   "cell_type": "markdown",
   "metadata": {},
   "source": [
    "##  Show the FID"
   ]
  },
  {
   "cell_type": "code",
   "execution_count": null,
   "metadata": {},
   "outputs": [],
   "source": [
    "f = Import_1D(\"/Volumes/3ToBiak/MassSpec/FTICR_data/1D/APO/APOAI_H2OMetOHAF_MS_profile_000001.d\")\n",
    "f.display(label = \"FID\")"
   ]
  },
  {
   "cell_type": "markdown",
   "metadata": {},
   "source": [
    "##<a class=\"links\" id=\"Few_examples_of_how_to_use_SPIKE_Show_the_half_truncated_FID_and_full_FID\"> Show the half truncated FID and full FID</a>"
   ]
  },
  {
   "cell_type": "code",
   "execution_count": null,
   "metadata": {},
   "outputs": [],
   "source": [
    "f = Import_1D(\"/Volumes/3ToBiak/MassSpec/FTICR_data/1D/APO/APOAI_H2OMetOHAF_MS_profile_000001.d\")\n",
    "f.chsize(len(f.buffer)/2)\n",
    "ff = f.copy()\n",
    "ff.buffer = ff.buffer[:len(f.buffer)/2]/2\n",
    "f.display(label = \"FID\")\n",
    "f.display(label = \"FID cut\", new_fig = False)"
   ]
  },
  {
   "cell_type": "markdown",
   "metadata": {},
   "source": [
    "##<a class=\"links\" id=\"Few_examples_of_how_to_use_SPIKE_Doing_FFT_with_zerofilling\"> Doing FFT with zerofilling</a>"
   ]
  },
  {
   "cell_type": "markdown",
   "metadata": {},
   "source": [
    "Classical FFT with apodisation and zerofilling."
   ]
  },
  {
   "cell_type": "code",
   "execution_count": 4,
   "metadata": {},
   "outputs": [
    {
     "name": "stdout",
     "output_type": "stream",
     "text": [
      "['/Volumes/3ToBiak/MassSpec/FTICR_data/1D/APO/APOAI_H2OMetOHAF_MS_profile_000001.d/Apex2_LC_autoexclusion_test2.m/apexAcquisition.method'] 1\n"
     ]
    },
    {
     "data": {
      "text/plain": [
       "Dim 1\n",
       "Axis F1 : FT-ICR axis at 161.290323 kHz,  524288 real points,  from mz = 1500.000   to m/z =  895.219  R max (M=400) = 1173379"
      ]
     },
     "execution_count": 4,
     "metadata": {},
     "output_type": "execute_result"
    }
   ],
   "source": [
    "f = Import_1D(\"/Volumes/3ToBiak/MassSpec/FTICR_data/1D/APO/APOAI_H2OMetOHAF_MS_profile_000001.d\")\n",
    "f.report()\n",
    "f.axis1.currentunit = 'm/z'\n",
    "f.apod_sin(maxi = 0.5).chsize(f.buffer.size*2).rfft().modulus().display(label = \"zerofill x2\", show = True)"
   ]
  },
  {
   "cell_type": "markdown",
   "metadata": {},
   "source": [
    "##<a class=\"links\" id=\"Few_examples_of_how_to_use_SPIKE_FFT_with_zerofilling,_processing_cutting_the_pipes.\"> FFT with zerofilling, processing cutting the pipes.</a>"
   ]
  },
  {
   "cell_type": "markdown",
   "metadata": {},
   "source": [
    "Here instead of writing a single long command with pipelines, the command is cut in many chunks.\n",
    "This can be used for performing intermediate operations not present in NPKv2."
   ]
  },
  {
   "cell_type": "code",
   "execution_count": null,
   "metadata": {},
   "outputs": [],
   "source": [
    "f = Import_1D(\"DATA_test/angio_ms_000005.d\")\n",
    "f.currentunit = 'm/z'\n",
    "f.apod_sin(maxi = 0.5)\n",
    "f.chsize(f.buffer.size*2).rfft()\n",
    "f.modulus().display(label = \"zerofill x2\", show = True)"
   ]
  },
  {
   "cell_type": "markdown",
   "metadata": {},
   "source": [
    "##<a class=\"links\" id=\"Few_examples_of_how_to_use_SPIKE_Using_urQRd\"> Using urQRd</a>"
   ]
  },
  {
   "cell_type": "markdown",
   "metadata": {},
   "source": [
    "Example of how to use urQRd for denoising a spectrum. As a rule of thumb, the rank must be few times the number of expected frequencies."
   ]
  },
  {
   "cell_type": "code",
   "execution_count": null,
   "metadata": {},
   "outputs": [],
   "source": [
    "f = Import_1D(\"DATA_test/angio_ms_000005.d\")\n",
    "f.currentunit = 'm/z'\n",
    "rank = 30\n",
    "f.urqrd(k = rank).rfft().modulus().display(label = \"urQRd, rank = {}\".format(rank), show = True)"
   ]
  },
  {
   "cell_type": "code",
   "execution_count": null,
   "metadata": {
    "collapsed": true
   },
   "outputs": [],
   "source": []
  }
 ],
 "metadata": {
  "anaconda-cloud": {},
  "kernelspec": {
   "display_name": "Python 3",
   "language": "python",
   "name": "python3"
  },
  "language_info": {
   "codemirror_mode": {
    "name": "ipython",
    "version": 3
   },
   "file_extension": ".py",
   "mimetype": "text/x-python",
   "name": "python",
   "nbconvert_exporter": "python",
   "pygments_lexer": "ipython3",
   "version": "3.6.8"
  },
  "varInspector": {
   "cols": {
    "lenName": 16,
    "lenType": 16,
    "lenVar": 40
   },
   "kernels_config": {
    "python": {
     "delete_cmd_postfix": "",
     "delete_cmd_prefix": "del ",
     "library": "var_list.py",
     "varRefreshCmd": "print(var_dic_list())"
    },
    "r": {
     "delete_cmd_postfix": ") ",
     "delete_cmd_prefix": "rm(",
     "library": "var_list.r",
     "varRefreshCmd": "cat(var_dic_list()) "
    }
   },
   "types_to_exclude": [
    "module",
    "function",
    "builtin_function_or_method",
    "instance",
    "_Feature"
   ],
   "window_display": false
  }
 },
 "nbformat": 4,
 "nbformat_minor": 1
}
