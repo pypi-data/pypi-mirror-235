{
 "cells": [
  {
   "cell_type": "code",
   "execution_count": 1,
   "metadata": {},
   "outputs": [],
   "source": [
    "import polars as pl\n",
    "import pandas as pd\n",
    "import numpy as np\n",
    "from sklearn.datasets import make_classification\n",
    "from time import perf_counter\n"
   ]
  },
  {
   "cell_type": "code",
   "execution_count": 2,
   "metadata": {},
   "outputs": [],
   "source": [
    "orig_x, orig_y = make_classification(n_samples = 100_000, n_features = 10, n_informative = 5, n_redundant = 5)\n",
    "# This is a Polars dataframe. This is dsds package's favored dataframe. dsds relies on Polars heavily.\n",
    "# You must turn other dataframe formats into Polars for dsds to work.\n",
    "df = pl.from_numpy(orig_x).insert_at_idx(0, pl.Series(\"target\", orig_y)) \n",
    "# Turn it into Pandas.\n",
    "df_pd = df.to_pandas()\n",
    "target = \"target\"\n",
    "features = df.columns\n",
    "features.remove(target)"
   ]
  },
  {
   "cell_type": "code",
   "execution_count": 3,
   "metadata": {},
   "outputs": [
    {
     "data": {
      "text/html": [
       "<div><style>\n",
       ".dataframe > thead > tr > th,\n",
       ".dataframe > tbody > tr > td {\n",
       "  text-align: right;\n",
       "  white-space: pre-wrap;\n",
       "}\n",
       "</style>\n",
       "<small>shape: (5, 11)</small><table border=\"1\" class=\"dataframe\"><thead><tr><th>target</th><th>column_0</th><th>column_1</th><th>column_2</th><th>column_3</th><th>column_4</th><th>column_5</th><th>column_6</th><th>column_7</th><th>column_8</th><th>column_9</th></tr><tr><td>i32</td><td>f64</td><td>f64</td><td>f64</td><td>f64</td><td>f64</td><td>f64</td><td>f64</td><td>f64</td><td>f64</td><td>f64</td></tr></thead><tbody><tr><td>0</td><td>-0.530005</td><td>-0.11573</td><td>-0.170989</td><td>0.33106</td><td>1.427702</td><td>1.375176</td><td>0.815358</td><td>-0.687604</td><td>0.41171</td><td>0.599486</td></tr><tr><td>0</td><td>-0.530294</td><td>-0.626899</td><td>-0.607625</td><td>1.090091</td><td>1.167637</td><td>2.505301</td><td>-0.291641</td><td>-0.093724</td><td>-0.578608</td><td>-1.080053</td></tr><tr><td>1</td><td>-2.369443</td><td>-2.211986</td><td>0.806646</td><td>2.62867</td><td>-0.073144</td><td>0.864496</td><td>-1.666375</td><td>-0.317636</td><td>-0.003078</td><td>-2.478897</td></tr><tr><td>0</td><td>-0.413598</td><td>-0.622732</td><td>-1.40097</td><td>1.875616</td><td>1.846896</td><td>0.332353</td><td>0.108449</td><td>1.438836</td><td>0.868123</td><td>-0.978085</td></tr><tr><td>1</td><td>-3.330914</td><td>-2.785849</td><td>2.447746</td><td>1.757732</td><td>-0.869147</td><td>2.988697</td><td>-1.752147</td><td>-2.838499</td><td>-0.599155</td><td>-1.712332</td></tr></tbody></table></div>"
      ],
      "text/plain": [
       "shape: (5, 11)\n",
       "┌────────┬───────────┬───────────┬───────────┬───┬───────────┬───────────┬───────────┬───────────┐\n",
       "│ target ┆ column_0  ┆ column_1  ┆ column_2  ┆ … ┆ column_6  ┆ column_7  ┆ column_8  ┆ column_9  │\n",
       "│ ---    ┆ ---       ┆ ---       ┆ ---       ┆   ┆ ---       ┆ ---       ┆ ---       ┆ ---       │\n",
       "│ i32    ┆ f64       ┆ f64       ┆ f64       ┆   ┆ f64       ┆ f64       ┆ f64       ┆ f64       │\n",
       "╞════════╪═══════════╪═══════════╪═══════════╪═══╪═══════════╪═══════════╪═══════════╪═══════════╡\n",
       "│ 0      ┆ -0.530005 ┆ -0.11573  ┆ -0.170989 ┆ … ┆ 0.815358  ┆ -0.687604 ┆ 0.41171   ┆ 0.599486  │\n",
       "│ 0      ┆ -0.530294 ┆ -0.626899 ┆ -0.607625 ┆ … ┆ -0.291641 ┆ -0.093724 ┆ -0.578608 ┆ -1.080053 │\n",
       "│ 1      ┆ -2.369443 ┆ -2.211986 ┆ 0.806646  ┆ … ┆ -1.666375 ┆ -0.317636 ┆ -0.003078 ┆ -2.478897 │\n",
       "│ 0      ┆ -0.413598 ┆ -0.622732 ┆ -1.40097  ┆ … ┆ 0.108449  ┆ 1.438836  ┆ 0.868123  ┆ -0.978085 │\n",
       "│ 1      ┆ -3.330914 ┆ -2.785849 ┆ 2.447746  ┆ … ┆ -1.752147 ┆ -2.838499 ┆ -0.599155 ┆ -1.712332 │\n",
       "└────────┴───────────┴───────────┴───────────┴───┴───────────┴───────────┴───────────┴───────────┘"
      ]
     },
     "execution_count": 3,
     "metadata": {},
     "output_type": "execute_result"
    }
   ],
   "source": [
    "df.head()"
   ]
  },
  {
   "attachments": {},
   "cell_type": "markdown",
   "metadata": {},
   "source": [
    "## Comparisons\n",
    "\n",
    "This notebook compares results and performance between the dsds package, sklearn and some other packages for feature selection and some other transformations common in the data science pipeline.\n",
    "\n",
    "### Methods Compared:\n",
    "1. Scaling and Imputation\n",
    "2. Fscore\n",
    "3. Mutual Information Score\n",
    "4. MRMR feature selection strategies\n",
    "5. Power Transform\n",
    "\n",
    "You may restart the kernel after each section. But remember to rerun the cells above. If you are concerned about memory usage when running this notebook, go to the end and run the gc cell."
   ]
  },
  {
   "attachments": {},
   "cell_type": "markdown",
   "metadata": {},
   "source": [
    "# Scaling and Imputation"
   ]
  },
  {
   "cell_type": "code",
   "execution_count": 4,
   "metadata": {},
   "outputs": [],
   "source": [
    "import dsds.transform as t"
   ]
  },
  {
   "cell_type": "code",
   "execution_count": 5,
   "metadata": {},
   "outputs": [],
   "source": [
    "features = df.columns\n",
    "features.remove(\"target\")"
   ]
  },
  {
   "cell_type": "code",
   "execution_count": 6,
   "metadata": {},
   "outputs": [
    {
     "data": {
      "text/html": [
       "<div><style>\n",
       ".dataframe > thead > tr > th,\n",
       ".dataframe > tbody > tr > td {\n",
       "  text-align: right;\n",
       "  white-space: pre-wrap;\n",
       "}\n",
       "</style>\n",
       "<small>shape: (5, 11)</small><table border=\"1\" class=\"dataframe\"><thead><tr><th>target</th><th>column_0</th><th>column_1</th><th>column_2</th><th>column_3</th><th>column_4</th><th>column_5</th><th>column_6</th><th>column_7</th><th>column_8</th><th>column_9</th></tr><tr><td>i32</td><td>f64</td><td>f64</td><td>f64</td><td>f64</td><td>f64</td><td>f64</td><td>f64</td><td>f64</td><td>f64</td><td>f64</td></tr></thead><tbody><tr><td>0</td><td>0.416436</td><td>0.812041</td><td>-0.314945</td><td>-0.50577</td><td>0.556433</td><td>0.302315</td><td>0.939184</td><td>-0.114853</td><td>0.056324</td><td>0.683929</td></tr><tr><td>0</td><td>0.416243</td><td>0.343898</td><td>-0.615854</td><td>0.036933</td><td>0.400233</td><td>1.21756</td><td>-0.034063</td><td>0.23666</td><td>-0.58874</td><td>-0.356561</td></tr><tr><td>1</td><td>-0.814165</td><td>-1.107766</td><td>0.358796</td><td>1.137009</td><td>-0.345002</td><td>-0.111266</td><td>-1.242693</td><td>0.104128</td><td>-0.213857</td><td>-1.223157</td></tr><tr><td>0</td><td>0.494314</td><td>0.347716</td><td>-1.16259</td><td>0.598579</td><td>0.808208</td><td>-0.542228</td><td>0.317687</td><td>1.143774</td><td>0.353618</td><td>-0.293391</td></tr><tr><td>1</td><td>-1.457398</td><td>-1.633325</td><td>1.489765</td><td>0.514293</td><td>-0.823096</td><td>1.609045</td><td>-1.318103</td><td>-1.387956</td><td>-0.602124</td><td>-0.748263</td></tr></tbody></table></div>"
      ],
      "text/plain": [
       "shape: (5, 11)\n",
       "┌────────┬───────────┬───────────┬───────────┬───┬───────────┬───────────┬───────────┬───────────┐\n",
       "│ target ┆ column_0  ┆ column_1  ┆ column_2  ┆ … ┆ column_6  ┆ column_7  ┆ column_8  ┆ column_9  │\n",
       "│ ---    ┆ ---       ┆ ---       ┆ ---       ┆   ┆ ---       ┆ ---       ┆ ---       ┆ ---       │\n",
       "│ i32    ┆ f64       ┆ f64       ┆ f64       ┆   ┆ f64       ┆ f64       ┆ f64       ┆ f64       │\n",
       "╞════════╪═══════════╪═══════════╪═══════════╪═══╪═══════════╪═══════════╪═══════════╪═══════════╡\n",
       "│ 0      ┆ 0.416436  ┆ 0.812041  ┆ -0.314945 ┆ … ┆ 0.939184  ┆ -0.114853 ┆ 0.056324  ┆ 0.683929  │\n",
       "│ 0      ┆ 0.416243  ┆ 0.343898  ┆ -0.615854 ┆ … ┆ -0.034063 ┆ 0.23666   ┆ -0.58874  ┆ -0.356561 │\n",
       "│ 1      ┆ -0.814165 ┆ -1.107766 ┆ 0.358796  ┆ … ┆ -1.242693 ┆ 0.104128  ┆ -0.213857 ┆ -1.223157 │\n",
       "│ 0      ┆ 0.494314  ┆ 0.347716  ┆ -1.16259  ┆ … ┆ 0.317687  ┆ 1.143774  ┆ 0.353618  ┆ -0.293391 │\n",
       "│ 1      ┆ -1.457398 ┆ -1.633325 ┆ 1.489765  ┆ … ┆ -1.318103 ┆ -1.387956 ┆ -0.602124 ┆ -0.748263 │\n",
       "└────────┴───────────┴───────────┴───────────┴───┴───────────┴───────────┴───────────┴───────────┘"
      ]
     },
     "execution_count": 6,
     "metadata": {},
     "output_type": "execute_result"
    }
   ],
   "source": [
    "scaled = t.scale(df, cols=features, strategy=\"standard\")\n",
    "scaled.head()"
   ]
  },
  {
   "cell_type": "code",
   "execution_count": 7,
   "metadata": {},
   "outputs": [],
   "source": [
    "from sklearn.preprocessing import StandardScaler"
   ]
  },
  {
   "cell_type": "code",
   "execution_count": 8,
   "metadata": {},
   "outputs": [
    {
     "data": {
      "text/html": [
       "<div>\n",
       "<style scoped>\n",
       "    .dataframe tbody tr th:only-of-type {\n",
       "        vertical-align: middle;\n",
       "    }\n",
       "\n",
       "    .dataframe tbody tr th {\n",
       "        vertical-align: top;\n",
       "    }\n",
       "\n",
       "    .dataframe thead th {\n",
       "        text-align: right;\n",
       "    }\n",
       "</style>\n",
       "<table border=\"1\" class=\"dataframe\">\n",
       "  <thead>\n",
       "    <tr style=\"text-align: right;\">\n",
       "      <th></th>\n",
       "      <th>column_0</th>\n",
       "      <th>column_1</th>\n",
       "      <th>column_2</th>\n",
       "      <th>column_3</th>\n",
       "      <th>column_4</th>\n",
       "      <th>column_5</th>\n",
       "      <th>column_6</th>\n",
       "      <th>column_7</th>\n",
       "      <th>column_8</th>\n",
       "      <th>column_9</th>\n",
       "      <th>target</th>\n",
       "    </tr>\n",
       "  </thead>\n",
       "  <tbody>\n",
       "    <tr>\n",
       "      <th>0</th>\n",
       "      <td>0.416439</td>\n",
       "      <td>0.812045</td>\n",
       "      <td>-0.314946</td>\n",
       "      <td>-0.505772</td>\n",
       "      <td>0.556436</td>\n",
       "      <td>0.302317</td>\n",
       "      <td>0.939188</td>\n",
       "      <td>-0.114854</td>\n",
       "      <td>0.056324</td>\n",
       "      <td>0.683932</td>\n",
       "      <td>0</td>\n",
       "    </tr>\n",
       "    <tr>\n",
       "      <th>1</th>\n",
       "      <td>0.416245</td>\n",
       "      <td>0.343900</td>\n",
       "      <td>-0.615857</td>\n",
       "      <td>0.036934</td>\n",
       "      <td>0.400235</td>\n",
       "      <td>1.217567</td>\n",
       "      <td>-0.034063</td>\n",
       "      <td>0.236661</td>\n",
       "      <td>-0.588743</td>\n",
       "      <td>-0.356563</td>\n",
       "      <td>0</td>\n",
       "    </tr>\n",
       "    <tr>\n",
       "      <th>2</th>\n",
       "      <td>-0.814169</td>\n",
       "      <td>-1.107772</td>\n",
       "      <td>0.358798</td>\n",
       "      <td>1.137015</td>\n",
       "      <td>-0.345004</td>\n",
       "      <td>-0.111266</td>\n",
       "      <td>-1.242700</td>\n",
       "      <td>0.104129</td>\n",
       "      <td>-0.213858</td>\n",
       "      <td>-1.223163</td>\n",
       "      <td>1</td>\n",
       "    </tr>\n",
       "    <tr>\n",
       "      <th>3</th>\n",
       "      <td>0.494317</td>\n",
       "      <td>0.347717</td>\n",
       "      <td>-1.162596</td>\n",
       "      <td>0.598582</td>\n",
       "      <td>0.808212</td>\n",
       "      <td>-0.542231</td>\n",
       "      <td>0.317688</td>\n",
       "      <td>1.143779</td>\n",
       "      <td>0.353619</td>\n",
       "      <td>-0.293392</td>\n",
       "      <td>0</td>\n",
       "    </tr>\n",
       "    <tr>\n",
       "      <th>4</th>\n",
       "      <td>-1.457405</td>\n",
       "      <td>-1.633333</td>\n",
       "      <td>1.489772</td>\n",
       "      <td>0.514295</td>\n",
       "      <td>-0.823100</td>\n",
       "      <td>1.609053</td>\n",
       "      <td>-1.318109</td>\n",
       "      <td>-1.387963</td>\n",
       "      <td>-0.602127</td>\n",
       "      <td>-0.748267</td>\n",
       "      <td>1</td>\n",
       "    </tr>\n",
       "  </tbody>\n",
       "</table>\n",
       "</div>"
      ],
      "text/plain": [
       "   column_0  column_1  column_2  column_3  column_4  column_5  column_6  \\\n",
       "0  0.416439  0.812045 -0.314946 -0.505772  0.556436  0.302317  0.939188   \n",
       "1  0.416245  0.343900 -0.615857  0.036934  0.400235  1.217567 -0.034063   \n",
       "2 -0.814169 -1.107772  0.358798  1.137015 -0.345004 -0.111266 -1.242700   \n",
       "3  0.494317  0.347717 -1.162596  0.598582  0.808212 -0.542231  0.317688   \n",
       "4 -1.457405 -1.633333  1.489772  0.514295 -0.823100  1.609053 -1.318109   \n",
       "\n",
       "   column_7  column_8  column_9  target  \n",
       "0 -0.114854  0.056324  0.683932       0  \n",
       "1  0.236661 -0.588743 -0.356563       0  \n",
       "2  0.104129 -0.213858 -1.223163       1  \n",
       "3  1.143779  0.353619 -0.293392       0  \n",
       "4 -1.387963 -0.602127 -0.748267       1  "
      ]
     },
     "execution_count": 8,
     "metadata": {},
     "output_type": "execute_result"
    }
   ],
   "source": [
    "# The difference in result is caused by using ddof = 1 for sample variance in dsds\n",
    "# and using ddof = 0 in sklearn.\n",
    "\n",
    "# Long and convoluted code just to do some scaling...\n",
    "std = StandardScaler()\n",
    "scaled2 = std.fit_transform(df_pd[features], df_pd[target])\n",
    "# scaled2[:5, :] # scaled2 is a numpy matrix\n",
    "scaled2 = pd.DataFrame(scaled2, columns=features)\n",
    "scaled2[target] = df_pd[target]\n",
    "scaled2.head()"
   ]
  },
  {
   "cell_type": "code",
   "execution_count": 9,
   "metadata": {},
   "outputs": [
    {
     "name": "stdout",
     "output_type": "stream",
     "text": [
      "2.61 ms ± 99.7 µs per loop (mean ± std. dev. of 7 runs, 100 loops each)\n"
     ]
    }
   ],
   "source": [
    "%%timeit\n",
    "scaled = t.scale(df, cols=features, strategy=\"standard\")"
   ]
  },
  {
   "cell_type": "code",
   "execution_count": 10,
   "metadata": {},
   "outputs": [
    {
     "name": "stdout",
     "output_type": "stream",
     "text": [
      "12.2 ms ± 109 µs per loop (mean ± std. dev. of 7 runs, 100 loops each)\n"
     ]
    }
   ],
   "source": [
    "%%timeit\n",
    "std = StandardScaler()\n",
    "scaled2 = std.fit_transform(df_pd[features], df_pd[target])\n",
    "scaled2 = pd.DataFrame(scaled2, columns=features)\n",
    "scaled2[target] = df_pd[target]\n"
   ]
  },
  {
   "cell_type": "code",
   "execution_count": 11,
   "metadata": {},
   "outputs": [
    {
     "data": {
      "text/html": [
       "<div><style>\n",
       ".dataframe > thead > tr > th,\n",
       ".dataframe > tbody > tr > td {\n",
       "  text-align: right;\n",
       "  white-space: pre-wrap;\n",
       "}\n",
       "</style>\n",
       "<small>shape: (3, 11)</small><table border=\"1\" class=\"dataframe\"><thead><tr><th>target</th><th>column_0</th><th>column_1</th><th>column_2</th><th>column_3</th><th>column_4</th><th>column_5</th><th>column_6</th><th>column_7</th><th>column_8</th><th>column_9</th></tr><tr><td>i32</td><td>f64</td><td>f64</td><td>f64</td><td>f64</td><td>f64</td><td>f64</td><td>f64</td><td>f64</td><td>f64</td><td>f64</td></tr></thead><tbody><tr><td>0</td><td>-0.530005</td><td>-0.11573</td><td>-0.170989</td><td>0.33106</td><td>1.427702</td><td>1.375176</td><td>0.815358</td><td>-0.687604</td><td>0.41171</td><td>0.599486</td></tr><tr><td>0</td><td>-0.530294</td><td>-0.626899</td><td>-0.607625</td><td>1.090091</td><td>1.167637</td><td>2.505301</td><td>-0.291641</td><td>-0.093724</td><td>-0.578608</td><td>-1.080053</td></tr><tr><td>1</td><td>-2.369443</td><td>-2.211986</td><td>0.806646</td><td>2.62867</td><td>-0.073144</td><td>0.864496</td><td>-1.666375</td><td>-0.317636</td><td>-0.003078</td><td>-2.478897</td></tr></tbody></table></div>"
      ],
      "text/plain": [
       "shape: (3, 11)\n",
       "┌────────┬───────────┬───────────┬───────────┬───┬───────────┬───────────┬───────────┬───────────┐\n",
       "│ target ┆ column_0  ┆ column_1  ┆ column_2  ┆ … ┆ column_6  ┆ column_7  ┆ column_8  ┆ column_9  │\n",
       "│ ---    ┆ ---       ┆ ---       ┆ ---       ┆   ┆ ---       ┆ ---       ┆ ---       ┆ ---       │\n",
       "│ i32    ┆ f64       ┆ f64       ┆ f64       ┆   ┆ f64       ┆ f64       ┆ f64       ┆ f64       │\n",
       "╞════════╪═══════════╪═══════════╪═══════════╪═══╪═══════════╪═══════════╪═══════════╪═══════════╡\n",
       "│ 0      ┆ -0.530005 ┆ -0.11573  ┆ -0.170989 ┆ … ┆ 0.815358  ┆ -0.687604 ┆ 0.41171   ┆ 0.599486  │\n",
       "│ 0      ┆ -0.530294 ┆ -0.626899 ┆ -0.607625 ┆ … ┆ -0.291641 ┆ -0.093724 ┆ -0.578608 ┆ -1.080053 │\n",
       "│ 1      ┆ -2.369443 ┆ -2.211986 ┆ 0.806646  ┆ … ┆ -1.666375 ┆ -0.317636 ┆ -0.003078 ┆ -2.478897 │\n",
       "└────────┴───────────┴───────────┴───────────┴───┴───────────┴───────────┴───────────┴───────────┘"
      ]
     },
     "execution_count": 11,
     "metadata": {},
     "output_type": "execute_result"
    }
   ],
   "source": [
    "import dsds.transform as t\n",
    "t.impute(df, cols=features, strategy=\"median\").head(3) "
   ]
  },
  {
   "cell_type": "code",
   "execution_count": 12,
   "metadata": {},
   "outputs": [
    {
     "data": {
      "text/html": [
       "<div>\n",
       "<style scoped>\n",
       "    .dataframe tbody tr th:only-of-type {\n",
       "        vertical-align: middle;\n",
       "    }\n",
       "\n",
       "    .dataframe tbody tr th {\n",
       "        vertical-align: top;\n",
       "    }\n",
       "\n",
       "    .dataframe thead th {\n",
       "        text-align: right;\n",
       "    }\n",
       "</style>\n",
       "<table border=\"1\" class=\"dataframe\">\n",
       "  <thead>\n",
       "    <tr style=\"text-align: right;\">\n",
       "      <th></th>\n",
       "      <th>target</th>\n",
       "      <th>column_0</th>\n",
       "      <th>column_1</th>\n",
       "      <th>column_2</th>\n",
       "      <th>column_3</th>\n",
       "      <th>column_4</th>\n",
       "      <th>column_5</th>\n",
       "      <th>column_6</th>\n",
       "      <th>column_7</th>\n",
       "      <th>column_8</th>\n",
       "      <th>column_9</th>\n",
       "    </tr>\n",
       "  </thead>\n",
       "  <tbody>\n",
       "    <tr>\n",
       "      <th>0</th>\n",
       "      <td>0.0</td>\n",
       "      <td>-0.530005</td>\n",
       "      <td>-0.115730</td>\n",
       "      <td>-0.170989</td>\n",
       "      <td>0.331060</td>\n",
       "      <td>1.427702</td>\n",
       "      <td>1.375176</td>\n",
       "      <td>0.815358</td>\n",
       "      <td>-0.687604</td>\n",
       "      <td>0.411710</td>\n",
       "      <td>0.599486</td>\n",
       "    </tr>\n",
       "    <tr>\n",
       "      <th>1</th>\n",
       "      <td>0.0</td>\n",
       "      <td>-0.530294</td>\n",
       "      <td>-0.626899</td>\n",
       "      <td>-0.607625</td>\n",
       "      <td>1.090091</td>\n",
       "      <td>1.167637</td>\n",
       "      <td>2.505301</td>\n",
       "      <td>-0.291641</td>\n",
       "      <td>-0.093724</td>\n",
       "      <td>-0.578608</td>\n",
       "      <td>-1.080053</td>\n",
       "    </tr>\n",
       "    <tr>\n",
       "      <th>2</th>\n",
       "      <td>1.0</td>\n",
       "      <td>-2.369443</td>\n",
       "      <td>-2.211986</td>\n",
       "      <td>0.806646</td>\n",
       "      <td>2.628670</td>\n",
       "      <td>-0.073144</td>\n",
       "      <td>0.864496</td>\n",
       "      <td>-1.666375</td>\n",
       "      <td>-0.317636</td>\n",
       "      <td>-0.003078</td>\n",
       "      <td>-2.478897</td>\n",
       "    </tr>\n",
       "  </tbody>\n",
       "</table>\n",
       "</div>"
      ],
      "text/plain": [
       "   target  column_0  column_1  column_2  column_3  column_4  column_5  \\\n",
       "0     0.0 -0.530005 -0.115730 -0.170989  0.331060  1.427702  1.375176   \n",
       "1     0.0 -0.530294 -0.626899 -0.607625  1.090091  1.167637  2.505301   \n",
       "2     1.0 -2.369443 -2.211986  0.806646  2.628670 -0.073144  0.864496   \n",
       "\n",
       "   column_6  column_7  column_8  column_9  \n",
       "0  0.815358 -0.687604  0.411710  0.599486  \n",
       "1 -0.291641 -0.093724 -0.578608 -1.080053  \n",
       "2 -1.666375 -0.317636 -0.003078 -2.478897  "
      ]
     },
     "execution_count": 12,
     "metadata": {},
     "output_type": "execute_result"
    }
   ],
   "source": [
    "from sklearn.impute import SimpleImputer \n",
    "imputer = SimpleImputer(strategy = \"median\")\n",
    "imputed = pd.DataFrame(imputer.fit_transform(df_pd, df_pd[target]), columns=df.columns)\n",
    "imputed.head(3)"
   ]
  },
  {
   "cell_type": "code",
   "execution_count": 13,
   "metadata": {},
   "outputs": [
    {
     "name": "stdout",
     "output_type": "stream",
     "text": [
      "117 ms ± 1.21 ms per loop (mean ± std. dev. of 7 runs, 10 loops each)\n"
     ]
    }
   ],
   "source": [
    "%%timeit\n",
    "imputer = SimpleImputer(strategy = \"median\")\n",
    "imputed = pd.DataFrame(imputer.fit_transform(df_pd, df_pd[target]), columns=df.columns)\n"
   ]
  },
  {
   "cell_type": "code",
   "execution_count": 14,
   "metadata": {},
   "outputs": [
    {
     "name": "stdout",
     "output_type": "stream",
     "text": [
      "1.26 ms ± 46.2 µs per loop (mean ± std. dev. of 7 runs, 1,000 loops each)\n"
     ]
    }
   ],
   "source": [
    "%%timeit\n",
    "t.impute(df, cols=features, strategy=\"median\")"
   ]
  },
  {
   "attachments": {},
   "cell_type": "markdown",
   "metadata": {},
   "source": [
    "# Fscore"
   ]
  },
  {
   "cell_type": "code",
   "execution_count": 15,
   "metadata": {},
   "outputs": [],
   "source": [
    "import dsds.fs as fs # fs = feature_selection\n",
    "from sklearn.feature_selection import mutual_info_classif, f_classif, f_regression"
   ]
  },
  {
   "cell_type": "code",
   "execution_count": 16,
   "metadata": {},
   "outputs": [
    {
     "data": {
      "text/plain": [
       "array([4.17004737e+03, 1.94417782e-01, 1.97369637e+04, 8.76451966e+01,\n",
       "       1.00225550e+04, 1.00965762e-01, 1.68644247e+04, 9.67350729e+03,\n",
       "       2.26720328e+04, 1.06798295e+04])"
      ]
     },
     "execution_count": 16,
     "metadata": {},
     "output_type": "execute_result"
    }
   ],
   "source": [
    "fs._f_score(df, target=target, num_list = features)"
   ]
  },
  {
   "cell_type": "code",
   "execution_count": 17,
   "metadata": {},
   "outputs": [
    {
     "name": "stdout",
     "output_type": "stream",
     "text": [
      "Spent 0.01s in computing Fscore.\n"
     ]
    },
    {
     "data": {
      "text/html": [
       "<div><style>\n",
       ".dataframe > thead > tr > th,\n",
       ".dataframe > tbody > tr > td {\n",
       "  text-align: right;\n",
       "  white-space: pre-wrap;\n",
       "}\n",
       "</style>\n",
       "<small>shape: (10, 3)</small><table border=\"1\" class=\"dataframe\"><thead><tr><th>feature</th><th>f_value</th><th>p_value</th></tr><tr><td>str</td><td>f64</td><td>f64</td></tr></thead><tbody><tr><td>&quot;column_0&quot;</td><td>4170.047367</td><td>0.0</td></tr><tr><td>&quot;column_1&quot;</td><td>0.194418</td><td>0.659266</td></tr><tr><td>&quot;column_2&quot;</td><td>19736.963691</td><td>0.0</td></tr><tr><td>&quot;column_3&quot;</td><td>87.645197</td><td>7.9867e-21</td></tr><tr><td>&quot;column_4&quot;</td><td>10022.555007</td><td>0.0</td></tr><tr><td>&quot;column_5&quot;</td><td>0.100966</td><td>0.750674</td></tr><tr><td>&quot;column_6&quot;</td><td>16864.424736</td><td>0.0</td></tr><tr><td>&quot;column_7&quot;</td><td>9673.50729</td><td>0.0</td></tr><tr><td>&quot;column_8&quot;</td><td>22672.032803</td><td>0.0</td></tr><tr><td>&quot;column_9&quot;</td><td>10679.829541</td><td>0.0</td></tr></tbody></table></div>"
      ],
      "text/plain": [
       "shape: (10, 3)\n",
       "┌──────────┬──────────────┬────────────┐\n",
       "│ feature  ┆ f_value      ┆ p_value    │\n",
       "│ ---      ┆ ---          ┆ ---        │\n",
       "│ str      ┆ f64          ┆ f64        │\n",
       "╞══════════╪══════════════╪════════════╡\n",
       "│ column_0 ┆ 4170.047367  ┆ 0.0        │\n",
       "│ column_1 ┆ 0.194418     ┆ 0.659266   │\n",
       "│ column_2 ┆ 19736.963691 ┆ 0.0        │\n",
       "│ column_3 ┆ 87.645197    ┆ 7.9867e-21 │\n",
       "│ …        ┆ …            ┆ …          │\n",
       "│ column_6 ┆ 16864.424736 ┆ 0.0        │\n",
       "│ column_7 ┆ 9673.50729   ┆ 0.0        │\n",
       "│ column_8 ┆ 22672.032803 ┆ 0.0        │\n",
       "│ column_9 ┆ 10679.829541 ┆ 0.0        │\n",
       "└──────────┴──────────────┴────────────┘"
      ]
     },
     "execution_count": 17,
     "metadata": {},
     "output_type": "execute_result"
    }
   ],
   "source": [
    "# The more core, the bigger the difference. Data here is not big enough to show the difference\n",
    "start = perf_counter()\n",
    "res = fs.f_classif(df, target=target)\n",
    "end = perf_counter()\n",
    "print(f\"Spent {end - start:.2f}s in computing Fscore.\")\n",
    "res.head(10)"
   ]
  },
  {
   "cell_type": "code",
   "execution_count": 18,
   "metadata": {},
   "outputs": [
    {
     "name": "stdout",
     "output_type": "stream",
     "text": [
      "Spent 0.02s in computing Fscore.\n"
     ]
    },
    {
     "data": {
      "text/html": [
       "<div>\n",
       "<style scoped>\n",
       "    .dataframe tbody tr th:only-of-type {\n",
       "        vertical-align: middle;\n",
       "    }\n",
       "\n",
       "    .dataframe tbody tr th {\n",
       "        vertical-align: top;\n",
       "    }\n",
       "\n",
       "    .dataframe thead th {\n",
       "        text-align: right;\n",
       "    }\n",
       "</style>\n",
       "<table border=\"1\" class=\"dataframe\">\n",
       "  <thead>\n",
       "    <tr style=\"text-align: right;\">\n",
       "      <th></th>\n",
       "      <th>feature</th>\n",
       "      <th>f_value</th>\n",
       "      <th>p_value</th>\n",
       "    </tr>\n",
       "  </thead>\n",
       "  <tbody>\n",
       "    <tr>\n",
       "      <th>0</th>\n",
       "      <td>column_0</td>\n",
       "      <td>4170.047367</td>\n",
       "      <td>0.000000e+00</td>\n",
       "    </tr>\n",
       "    <tr>\n",
       "      <th>1</th>\n",
       "      <td>column_1</td>\n",
       "      <td>0.194418</td>\n",
       "      <td>6.592658e-01</td>\n",
       "    </tr>\n",
       "    <tr>\n",
       "      <th>2</th>\n",
       "      <td>column_2</td>\n",
       "      <td>19736.963691</td>\n",
       "      <td>0.000000e+00</td>\n",
       "    </tr>\n",
       "    <tr>\n",
       "      <th>3</th>\n",
       "      <td>column_3</td>\n",
       "      <td>87.645197</td>\n",
       "      <td>7.986694e-21</td>\n",
       "    </tr>\n",
       "    <tr>\n",
       "      <th>4</th>\n",
       "      <td>column_4</td>\n",
       "      <td>10022.555007</td>\n",
       "      <td>0.000000e+00</td>\n",
       "    </tr>\n",
       "    <tr>\n",
       "      <th>5</th>\n",
       "      <td>column_5</td>\n",
       "      <td>0.100966</td>\n",
       "      <td>7.506744e-01</td>\n",
       "    </tr>\n",
       "    <tr>\n",
       "      <th>6</th>\n",
       "      <td>column_6</td>\n",
       "      <td>16864.424736</td>\n",
       "      <td>0.000000e+00</td>\n",
       "    </tr>\n",
       "    <tr>\n",
       "      <th>7</th>\n",
       "      <td>column_7</td>\n",
       "      <td>9673.507290</td>\n",
       "      <td>0.000000e+00</td>\n",
       "    </tr>\n",
       "    <tr>\n",
       "      <th>8</th>\n",
       "      <td>column_8</td>\n",
       "      <td>22672.032803</td>\n",
       "      <td>0.000000e+00</td>\n",
       "    </tr>\n",
       "    <tr>\n",
       "      <th>9</th>\n",
       "      <td>column_9</td>\n",
       "      <td>10679.829541</td>\n",
       "      <td>0.000000e+00</td>\n",
       "    </tr>\n",
       "  </tbody>\n",
       "</table>\n",
       "</div>"
      ],
      "text/plain": [
       "    feature       f_value       p_value\n",
       "0  column_0   4170.047367  0.000000e+00\n",
       "1  column_1      0.194418  6.592658e-01\n",
       "2  column_2  19736.963691  0.000000e+00\n",
       "3  column_3     87.645197  7.986694e-21\n",
       "4  column_4  10022.555007  0.000000e+00\n",
       "5  column_5      0.100966  7.506744e-01\n",
       "6  column_6  16864.424736  0.000000e+00\n",
       "7  column_7   9673.507290  0.000000e+00\n",
       "8  column_8  22672.032803  0.000000e+00\n",
       "9  column_9  10679.829541  0.000000e+00"
      ]
     },
     "execution_count": 18,
     "metadata": {},
     "output_type": "execute_result"
    }
   ],
   "source": [
    "start = perf_counter()\n",
    "f, pv = f_classif(df_pd[features], df_pd[target])\n",
    "res = pd.DataFrame({\"feature\":features, \"f_value\":f, \"p_value\":pv})\n",
    "end = perf_counter()\n",
    "print(f\"Spent {end - start:.2f}s in computing Fscore.\")\n",
    "res.head(10)"
   ]
  },
  {
   "cell_type": "code",
   "execution_count": 19,
   "metadata": {},
   "outputs": [
    {
     "name": "stdout",
     "output_type": "stream",
     "text": [
      "Spent  0.01s in computing Fscore.\n"
     ]
    },
    {
     "data": {
      "text/html": [
       "<div>\n",
       "<style scoped>\n",
       "    .dataframe tbody tr th:only-of-type {\n",
       "        vertical-align: middle;\n",
       "    }\n",
       "\n",
       "    .dataframe tbody tr th {\n",
       "        vertical-align: top;\n",
       "    }\n",
       "\n",
       "    .dataframe thead th {\n",
       "        text-align: right;\n",
       "    }\n",
       "</style>\n",
       "<table border=\"1\" class=\"dataframe\">\n",
       "  <thead>\n",
       "    <tr style=\"text-align: right;\">\n",
       "      <th></th>\n",
       "      <th>feature</th>\n",
       "      <th>f_value</th>\n",
       "      <th>p_value</th>\n",
       "    </tr>\n",
       "  </thead>\n",
       "  <tbody>\n",
       "    <tr>\n",
       "      <th>0</th>\n",
       "      <td>column_0</td>\n",
       "      <td>4170.047367</td>\n",
       "      <td>0.000000e+00</td>\n",
       "    </tr>\n",
       "    <tr>\n",
       "      <th>1</th>\n",
       "      <td>column_1</td>\n",
       "      <td>0.194418</td>\n",
       "      <td>6.592658e-01</td>\n",
       "    </tr>\n",
       "    <tr>\n",
       "      <th>2</th>\n",
       "      <td>column_2</td>\n",
       "      <td>19736.963691</td>\n",
       "      <td>0.000000e+00</td>\n",
       "    </tr>\n",
       "    <tr>\n",
       "      <th>3</th>\n",
       "      <td>column_3</td>\n",
       "      <td>87.645197</td>\n",
       "      <td>7.986694e-21</td>\n",
       "    </tr>\n",
       "    <tr>\n",
       "      <th>4</th>\n",
       "      <td>column_4</td>\n",
       "      <td>10022.555007</td>\n",
       "      <td>0.000000e+00</td>\n",
       "    </tr>\n",
       "    <tr>\n",
       "      <th>5</th>\n",
       "      <td>column_5</td>\n",
       "      <td>0.100966</td>\n",
       "      <td>7.506744e-01</td>\n",
       "    </tr>\n",
       "    <tr>\n",
       "      <th>6</th>\n",
       "      <td>column_6</td>\n",
       "      <td>16864.424736</td>\n",
       "      <td>0.000000e+00</td>\n",
       "    </tr>\n",
       "    <tr>\n",
       "      <th>7</th>\n",
       "      <td>column_7</td>\n",
       "      <td>9673.507290</td>\n",
       "      <td>0.000000e+00</td>\n",
       "    </tr>\n",
       "    <tr>\n",
       "      <th>8</th>\n",
       "      <td>column_8</td>\n",
       "      <td>22672.032803</td>\n",
       "      <td>0.000000e+00</td>\n",
       "    </tr>\n",
       "    <tr>\n",
       "      <th>9</th>\n",
       "      <td>column_9</td>\n",
       "      <td>10679.829541</td>\n",
       "      <td>0.000000e+00</td>\n",
       "    </tr>\n",
       "  </tbody>\n",
       "</table>\n",
       "</div>"
      ],
      "text/plain": [
       "    feature       f_value       p_value\n",
       "0  column_0   4170.047367  0.000000e+00\n",
       "1  column_1      0.194418  6.592658e-01\n",
       "2  column_2  19736.963691  0.000000e+00\n",
       "3  column_3     87.645197  7.986694e-21\n",
       "4  column_4  10022.555007  0.000000e+00\n",
       "5  column_5      0.100966  7.506744e-01\n",
       "6  column_6  16864.424736  0.000000e+00\n",
       "7  column_7   9673.507290  0.000000e+00\n",
       "8  column_8  22672.032803  0.000000e+00\n",
       "9  column_9  10679.829541  0.000000e+00"
      ]
     },
     "execution_count": 19,
     "metadata": {},
     "output_type": "execute_result"
    }
   ],
   "source": [
    "start = perf_counter()\n",
    "f, pv = f_regression(df_pd[features], df_pd[target])\n",
    "res = pd.DataFrame({\"feature\":features, \"f_value\":f, \"p_value\":pv})\n",
    "end = perf_counter()\n",
    "print(f\"Spent {end - start: .2f}s in computing Fscore.\")\n",
    "res.head(10)"
   ]
  },
  {
   "attachments": {},
   "cell_type": "markdown",
   "metadata": {},
   "source": [
    "# Mutual Information Score"
   ]
  },
  {
   "cell_type": "code",
   "execution_count": 20,
   "metadata": {},
   "outputs": [
    {
     "name": "stderr",
     "output_type": "stream",
     "text": [
      "Mutual Info: 100%|██████████| 10/10 [00:00<00:00, 12.73it/s]\n"
     ]
    },
    {
     "data": {
      "text/html": [
       "<div><style>\n",
       ".dataframe > thead > tr > th,\n",
       ".dataframe > tbody > tr > td {\n",
       "  text-align: right;\n",
       "  white-space: pre-wrap;\n",
       "}\n",
       "</style>\n",
       "<small>shape: (10, 2)</small><table border=\"1\" class=\"dataframe\"><thead><tr><th>feature</th><th>estimated_mi</th></tr><tr><td>str</td><td>f64</td></tr></thead><tbody><tr><td>&quot;column_6&quot;</td><td>0.121489</td></tr><tr><td>&quot;column_8&quot;</td><td>0.113399</td></tr><tr><td>&quot;column_2&quot;</td><td>0.103288</td></tr><tr><td>&quot;column_4&quot;</td><td>0.061133</td></tr><tr><td>&quot;column_7&quot;</td><td>0.058957</td></tr><tr><td>&quot;column_9&quot;</td><td>0.053517</td></tr><tr><td>&quot;column_0&quot;</td><td>0.029735</td></tr><tr><td>&quot;column_1&quot;</td><td>0.025451</td></tr><tr><td>&quot;column_3&quot;</td><td>0.011829</td></tr><tr><td>&quot;column_5&quot;</td><td>0.001641</td></tr></tbody></table></div>"
      ],
      "text/plain": [
       "shape: (10, 2)\n",
       "┌──────────┬──────────────┐\n",
       "│ feature  ┆ estimated_mi │\n",
       "│ ---      ┆ ---          │\n",
       "│ str      ┆ f64          │\n",
       "╞══════════╪══════════════╡\n",
       "│ column_6 ┆ 0.121489     │\n",
       "│ column_8 ┆ 0.113399     │\n",
       "│ column_2 ┆ 0.103288     │\n",
       "│ column_4 ┆ 0.061133     │\n",
       "│ …        ┆ …            │\n",
       "│ column_0 ┆ 0.029735     │\n",
       "│ column_1 ┆ 0.025451     │\n",
       "│ column_3 ┆ 0.011829     │\n",
       "│ column_5 ┆ 0.001641     │\n",
       "└──────────┴──────────────┘"
      ]
     },
     "execution_count": 20,
     "metadata": {},
     "output_type": "execute_result"
    }
   ],
   "source": [
    "# Vastly faster than sklearn. Finished in 0.7s in this run\n",
    "fs.mutual_info(df, target=target, conti_cols=features).sort(by=\"estimated_mi\", descending=True).limit(10)"
   ]
  },
  {
   "cell_type": "code",
   "execution_count": 21,
   "metadata": {},
   "outputs": [],
   "source": [
    "# A wrapper for more apples to apples comparison\n",
    "def estimate_mi_sklearn(df:pd.DataFrame, cols:list[str], target:str, k=3, random_state:int=42):\n",
    "    mi_estimates = mutual_info_classif(df[cols], df[target]\n",
    "                        , n_neighbors=k, random_state=random_state, discrete_features=False)\n",
    "\n",
    "    return pl.from_records([cols, mi_estimates], schema=[\"feature\", \"estimated_mi\"]).sort(\"estimated_mi\", descending=True)"
   ]
  },
  {
   "cell_type": "code",
   "execution_count": 22,
   "metadata": {},
   "outputs": [
    {
     "data": {
      "text/html": [
       "<div><style>\n",
       ".dataframe > thead > tr > th,\n",
       ".dataframe > tbody > tr > td {\n",
       "  text-align: right;\n",
       "  white-space: pre-wrap;\n",
       "}\n",
       "</style>\n",
       "<small>shape: (10, 2)</small><table border=\"1\" class=\"dataframe\"><thead><tr><th>feature</th><th>estimated_mi</th></tr><tr><td>str</td><td>f64</td></tr></thead><tbody><tr><td>&quot;column_6&quot;</td><td>0.121489</td></tr><tr><td>&quot;column_8&quot;</td><td>0.113399</td></tr><tr><td>&quot;column_2&quot;</td><td>0.103288</td></tr><tr><td>&quot;column_4&quot;</td><td>0.061133</td></tr><tr><td>&quot;column_7&quot;</td><td>0.058957</td></tr><tr><td>&quot;column_9&quot;</td><td>0.053517</td></tr><tr><td>&quot;column_0&quot;</td><td>0.029735</td></tr><tr><td>&quot;column_1&quot;</td><td>0.025451</td></tr><tr><td>&quot;column_3&quot;</td><td>0.011823</td></tr><tr><td>&quot;column_5&quot;</td><td>0.001641</td></tr></tbody></table></div>"
      ],
      "text/plain": [
       "shape: (10, 2)\n",
       "┌──────────┬──────────────┐\n",
       "│ feature  ┆ estimated_mi │\n",
       "│ ---      ┆ ---          │\n",
       "│ str      ┆ f64          │\n",
       "╞══════════╪══════════════╡\n",
       "│ column_6 ┆ 0.121489     │\n",
       "│ column_8 ┆ 0.113399     │\n",
       "│ column_2 ┆ 0.103288     │\n",
       "│ column_4 ┆ 0.061133     │\n",
       "│ …        ┆ …            │\n",
       "│ column_0 ┆ 0.029735     │\n",
       "│ column_1 ┆ 0.025451     │\n",
       "│ column_3 ┆ 0.011823     │\n",
       "│ column_5 ┆ 0.001641     │\n",
       "└──────────┴──────────────┘"
      ]
     },
     "execution_count": 22,
     "metadata": {},
     "output_type": "execute_result"
    }
   ],
   "source": [
    "# The reason sklearn's impl is slow is that it did not turn on multithreading for KDtrees.\n",
    "# Sklearn also did not provide an option to turn it on, despite the fact that sklearn's KDtrees\n",
    "# does have this functionality. Finished in 4.4s in this run\n",
    "estimate_mi_sklearn(df_pd, cols=features, target=target).limit(10)"
   ]
  },
  {
   "attachments": {},
   "cell_type": "markdown",
   "metadata": {},
   "source": [
    "# MRMR Feature selection Strategy"
   ]
  },
  {
   "cell_type": "code",
   "execution_count": 23,
   "metadata": {},
   "outputs": [],
   "source": [
    "from mrmr import mrmr_classif # This is currently the most starred MRMR Python package on github"
   ]
  },
  {
   "cell_type": "code",
   "execution_count": 24,
   "metadata": {},
   "outputs": [],
   "source": [
    "# Need to wrap it so that we get apples to apples comparison\n",
    "def mrmr_package(df:pd.DataFrame, target:str, k:int) -> list[str]:\n",
    "    features = list(df.columns)\n",
    "    features.remove(target)\n",
    "    X = df[features]\n",
    "    y = df[target]\n",
    "    start = perf_counter()\n",
    "    output = mrmr_classif(X, y, K = k)\n",
    "    end = perf_counter()\n",
    "    print(f\"Spent {end - start:.2f}s to compute mrmr.\")\n",
    "    return output"
   ]
  },
  {
   "cell_type": "code",
   "execution_count": 25,
   "metadata": {},
   "outputs": [
    {
     "name": "stderr",
     "output_type": "stream",
     "text": [
      "100%|██████████| 10/10 [00:06<00:00,  1.60it/s]"
     ]
    },
    {
     "name": "stdout",
     "output_type": "stream",
     "text": [
      "Spent 9.17s to compute mrmr.\n"
     ]
    },
    {
     "name": "stderr",
     "output_type": "stream",
     "text": [
      "\n"
     ]
    },
    {
     "data": {
      "text/plain": [
       "['column_8',\n",
       " 'column_0',\n",
       " 'column_6',\n",
       " 'column_2',\n",
       " 'column_4',\n",
       " 'column_9',\n",
       " 'column_7',\n",
       " 'column_3',\n",
       " 'column_5',\n",
       " 'column_1']"
      ]
     },
     "execution_count": 25,
     "metadata": {},
     "output_type": "execute_result"
    }
   ],
   "source": [
    "mrmr_package(df_pd, \"target\", 50)"
   ]
  },
  {
   "cell_type": "code",
   "execution_count": 26,
   "metadata": {},
   "outputs": [
    {
     "name": "stderr",
     "output_type": "stream",
     "text": [
      "INFO:dsds.fs:Running fscore to determine feature relevance...\n"
     ]
    },
    {
     "name": "stdout",
     "output_type": "stream",
     "text": [
      "Found 10 total features to select from. Proceeding to select top 10 features.\n"
     ]
    },
    {
     "name": "stderr",
     "output_type": "stream",
     "text": [
      "MRMR, fscore: 100%|██████████| 10/10 [00:00<00:00, 1428.43it/s]"
     ]
    },
    {
     "name": "stdout",
     "output_type": "stream",
     "text": [
      "Output is sorted in order of selection (max relevance min redundancy).\n",
      "Spent 0.02s in computing.\n"
     ]
    },
    {
     "name": "stderr",
     "output_type": "stream",
     "text": [
      "\n"
     ]
    },
    {
     "data": {
      "text/plain": [
       "['column_8',\n",
       " 'column_0',\n",
       " 'column_6',\n",
       " 'column_2',\n",
       " 'column_4',\n",
       " 'column_9',\n",
       " 'column_7',\n",
       " 'column_3',\n",
       " 'column_5',\n",
       " 'column_1']"
      ]
     },
     "execution_count": 26,
     "metadata": {},
     "output_type": "execute_result"
    }
   ],
   "source": [
    "start = perf_counter()\n",
    "res = fs.mrmr(df, target=\"target\", k = 50, low_memory=False)\n",
    "end = perf_counter()\n",
    "print(f\"Spent {end - start:.2f}s in computing.\")\n",
    "res"
   ]
  },
  {
   "cell_type": "code",
   "execution_count": 27,
   "metadata": {},
   "outputs": [
    {
     "name": "stderr",
     "output_type": "stream",
     "text": [
      "INFO:dsds.fs:Running fscore to determine feature relevance...\n"
     ]
    },
    {
     "name": "stdout",
     "output_type": "stream",
     "text": [
      "Found 10 total features to select from. Proceeding to select top 10 features.\n"
     ]
    },
    {
     "name": "stderr",
     "output_type": "stream",
     "text": [
      "MRMR, fscore: 100%|██████████| 10/10 [00:00<00:00, 555.45it/s]"
     ]
    },
    {
     "name": "stdout",
     "output_type": "stream",
     "text": [
      "Output is sorted in order of selection (max relevance min redundancy).\n",
      "Spent 0.02s in computing.\n"
     ]
    },
    {
     "name": "stderr",
     "output_type": "stream",
     "text": [
      "\n"
     ]
    },
    {
     "data": {
      "text/plain": [
       "['column_8',\n",
       " 'column_0',\n",
       " 'column_6',\n",
       " 'column_2',\n",
       " 'column_4',\n",
       " 'column_9',\n",
       " 'column_7',\n",
       " 'column_3',\n",
       " 'column_5',\n",
       " 'column_1']"
      ]
     },
     "execution_count": 27,
     "metadata": {},
     "output_type": "execute_result"
    }
   ],
   "source": [
    "start = perf_counter()\n",
    "res = fs.mrmr(df, target=\"target\", k = 50, low_memory=True)\n",
    "end = perf_counter()\n",
    "print(f\"Spent {end - start:.2f}s in computing.\")\n",
    "res"
   ]
  },
  {
   "attachments": {},
   "cell_type": "markdown",
   "metadata": {},
   "source": [
    "# Power Transform"
   ]
  },
  {
   "cell_type": "code",
   "execution_count": 28,
   "metadata": {},
   "outputs": [
    {
     "name": "stdout",
     "output_type": "stream",
     "text": [
      "Spent 0.22s in computing.\n"
     ]
    },
    {
     "data": {
      "text/html": [
       "<div><style>\n",
       ".dataframe > thead > tr > th,\n",
       ".dataframe > tbody > tr > td {\n",
       "  text-align: right;\n",
       "  white-space: pre-wrap;\n",
       "}\n",
       "</style>\n",
       "<small>shape: (5, 11)</small><table border=\"1\" class=\"dataframe\"><thead><tr><th>target</th><th>column_0</th><th>column_1</th><th>column_2</th><th>column_3</th><th>column_4</th><th>column_5</th><th>column_6</th><th>column_7</th><th>column_8</th><th>column_9</th></tr><tr><td>i32</td><td>f64</td><td>f64</td><td>f64</td><td>f64</td><td>f64</td><td>f64</td><td>f64</td><td>f64</td><td>f64</td><td>f64</td></tr></thead><tbody><tr><td>0</td><td>-0.529729</td><td>-0.115949</td><td>-0.170658</td><td>0.339347</td><td>1.44585</td><td>1.380586</td><td>0.869039</td><td>-0.692359</td><td>0.407772</td><td>0.607435</td></tr><tr><td>0</td><td>-0.530018</td><td>-0.632517</td><td>-0.60392</td><td>1.167478</td><td>1.180363</td><td>2.520376</td><td>-0.284258</td><td>-0.093827</td><td>-0.586173</td><td>-1.057333</td></tr><tr><td>1</td><td>-2.365503</td><td>-2.264776</td><td>0.812939</td><td>2.993101</td><td>-0.073079</td><td>0.866859</td><td>-1.495149</td><td>-0.318748</td><td>-0.003078</td><td>-2.384629</td></tr><tr><td>0</td><td>-0.413425</td><td>-0.62828</td><td>-1.384313</td><td>2.079178</td><td>1.875244</td><td>0.33275</td><td>0.109552</td><td>1.421166</td><td>0.8525</td><td>-0.959043</td></tr><tr><td>1</td><td>-3.324018</td><td>-2.86349</td><td>2.491719</td><td>1.939412</td><td>-0.861743</td><td>3.008867</td><td>-1.565914</td><td>-2.89546</td><td>-0.607229</td><td>-1.661654</td></tr></tbody></table></div>"
      ],
      "text/plain": [
       "shape: (5, 11)\n",
       "┌────────┬───────────┬───────────┬───────────┬───┬───────────┬───────────┬───────────┬───────────┐\n",
       "│ target ┆ column_0  ┆ column_1  ┆ column_2  ┆ … ┆ column_6  ┆ column_7  ┆ column_8  ┆ column_9  │\n",
       "│ ---    ┆ ---       ┆ ---       ┆ ---       ┆   ┆ ---       ┆ ---       ┆ ---       ┆ ---       │\n",
       "│ i32    ┆ f64       ┆ f64       ┆ f64       ┆   ┆ f64       ┆ f64       ┆ f64       ┆ f64       │\n",
       "╞════════╪═══════════╪═══════════╪═══════════╪═══╪═══════════╪═══════════╪═══════════╪═══════════╡\n",
       "│ 0      ┆ -0.529729 ┆ -0.115949 ┆ -0.170658 ┆ … ┆ 0.869039  ┆ -0.692359 ┆ 0.407772  ┆ 0.607435  │\n",
       "│ 0      ┆ -0.530018 ┆ -0.632517 ┆ -0.60392  ┆ … ┆ -0.284258 ┆ -0.093827 ┆ -0.586173 ┆ -1.057333 │\n",
       "│ 1      ┆ -2.365503 ┆ -2.264776 ┆ 0.812939  ┆ … ┆ -1.495149 ┆ -0.318748 ┆ -0.003078 ┆ -2.384629 │\n",
       "│ 0      ┆ -0.413425 ┆ -0.62828  ┆ -1.384313 ┆ … ┆ 0.109552  ┆ 1.421166  ┆ 0.8525    ┆ -0.959043 │\n",
       "│ 1      ┆ -3.324018 ┆ -2.86349  ┆ 2.491719  ┆ … ┆ -1.565914 ┆ -2.89546  ┆ -0.607229 ┆ -1.661654 │\n",
       "└────────┴───────────┴───────────┴───────────┴───┴───────────┴───────────┴───────────┴───────────┘"
      ]
     },
     "execution_count": 28,
     "metadata": {},
     "output_type": "execute_result"
    }
   ],
   "source": [
    "start = perf_counter()\n",
    "res_eager = t.power_transform(df, cols=features, strategy=\"yeo_johnson\")\n",
    "end = perf_counter()\n",
    "print(f\"Spent {end - start:.2f}s in computing.\")\n",
    "res_eager.head() "
   ]
  },
  {
   "cell_type": "code",
   "execution_count": 29,
   "metadata": {},
   "outputs": [],
   "source": [
    "from sklearn.preprocessing import power_transform"
   ]
  },
  {
   "cell_type": "code",
   "execution_count": 30,
   "metadata": {},
   "outputs": [
    {
     "name": "stdout",
     "output_type": "stream",
     "text": [
      "Spent 0.72s in computing.\n"
     ]
    },
    {
     "data": {
      "text/html": [
       "<div>\n",
       "<style scoped>\n",
       "    .dataframe tbody tr th:only-of-type {\n",
       "        vertical-align: middle;\n",
       "    }\n",
       "\n",
       "    .dataframe tbody tr th {\n",
       "        vertical-align: top;\n",
       "    }\n",
       "\n",
       "    .dataframe thead th {\n",
       "        text-align: right;\n",
       "    }\n",
       "</style>\n",
       "<table border=\"1\" class=\"dataframe\">\n",
       "  <thead>\n",
       "    <tr style=\"text-align: right;\">\n",
       "      <th></th>\n",
       "      <th>target</th>\n",
       "      <th>column_0</th>\n",
       "      <th>column_1</th>\n",
       "      <th>column_2</th>\n",
       "      <th>column_3</th>\n",
       "      <th>column_4</th>\n",
       "      <th>column_5</th>\n",
       "      <th>column_6</th>\n",
       "      <th>column_7</th>\n",
       "      <th>column_8</th>\n",
       "      <th>column_9</th>\n",
       "    </tr>\n",
       "  </thead>\n",
       "  <tbody>\n",
       "    <tr>\n",
       "      <th>0</th>\n",
       "      <td>0</td>\n",
       "      <td>-0.529729</td>\n",
       "      <td>-0.115949</td>\n",
       "      <td>-0.170658</td>\n",
       "      <td>0.339347</td>\n",
       "      <td>1.445850</td>\n",
       "      <td>1.380586</td>\n",
       "      <td>0.869039</td>\n",
       "      <td>-0.692359</td>\n",
       "      <td>0.407772</td>\n",
       "      <td>0.607435</td>\n",
       "    </tr>\n",
       "    <tr>\n",
       "      <th>1</th>\n",
       "      <td>0</td>\n",
       "      <td>-0.530018</td>\n",
       "      <td>-0.632517</td>\n",
       "      <td>-0.603920</td>\n",
       "      <td>1.167478</td>\n",
       "      <td>1.180363</td>\n",
       "      <td>2.520376</td>\n",
       "      <td>-0.284258</td>\n",
       "      <td>-0.093827</td>\n",
       "      <td>-0.586173</td>\n",
       "      <td>-1.057333</td>\n",
       "    </tr>\n",
       "    <tr>\n",
       "      <th>2</th>\n",
       "      <td>1</td>\n",
       "      <td>-2.365503</td>\n",
       "      <td>-2.264776</td>\n",
       "      <td>0.812939</td>\n",
       "      <td>2.993101</td>\n",
       "      <td>-0.073079</td>\n",
       "      <td>0.866859</td>\n",
       "      <td>-1.495149</td>\n",
       "      <td>-0.318748</td>\n",
       "      <td>-0.003078</td>\n",
       "      <td>-2.384629</td>\n",
       "    </tr>\n",
       "    <tr>\n",
       "      <th>3</th>\n",
       "      <td>0</td>\n",
       "      <td>-0.413425</td>\n",
       "      <td>-0.628280</td>\n",
       "      <td>-1.384313</td>\n",
       "      <td>2.079178</td>\n",
       "      <td>1.875244</td>\n",
       "      <td>0.332750</td>\n",
       "      <td>0.109552</td>\n",
       "      <td>1.421166</td>\n",
       "      <td>0.852500</td>\n",
       "      <td>-0.959043</td>\n",
       "    </tr>\n",
       "    <tr>\n",
       "      <th>4</th>\n",
       "      <td>1</td>\n",
       "      <td>-3.324018</td>\n",
       "      <td>-2.863490</td>\n",
       "      <td>2.491719</td>\n",
       "      <td>1.939412</td>\n",
       "      <td>-0.861743</td>\n",
       "      <td>3.008867</td>\n",
       "      <td>-1.565914</td>\n",
       "      <td>-2.895460</td>\n",
       "      <td>-0.607229</td>\n",
       "      <td>-1.661654</td>\n",
       "    </tr>\n",
       "  </tbody>\n",
       "</table>\n",
       "</div>"
      ],
      "text/plain": [
       "   target  column_0  column_1  column_2  column_3  column_4  column_5  \\\n",
       "0       0 -0.529729 -0.115949 -0.170658  0.339347  1.445850  1.380586   \n",
       "1       0 -0.530018 -0.632517 -0.603920  1.167478  1.180363  2.520376   \n",
       "2       1 -2.365503 -2.264776  0.812939  2.993101 -0.073079  0.866859   \n",
       "3       0 -0.413425 -0.628280 -1.384313  2.079178  1.875244  0.332750   \n",
       "4       1 -3.324018 -2.863490  2.491719  1.939412 -0.861743  3.008867   \n",
       "\n",
       "   column_6  column_7  column_8  column_9  \n",
       "0  0.869039 -0.692359  0.407772  0.607435  \n",
       "1 -0.284258 -0.093827 -0.586173 -1.057333  \n",
       "2 -1.495149 -0.318748 -0.003078 -2.384629  \n",
       "3  0.109552  1.421166  0.852500 -0.959043  \n",
       "4 -1.565914 -2.895460 -0.607229 -1.661654  "
      ]
     },
     "execution_count": 30,
     "metadata": {},
     "output_type": "execute_result"
    }
   ],
   "source": [
    "# Sklearn with Pandas\n",
    "\n",
    "start = perf_counter()\n",
    "transformed = power_transform(df_pd[features], method = \"yeo-johnson\", standardize=False)\n",
    "end = perf_counter()\n",
    "df_pd[features] = transformed\n",
    "print(f\"Spent {end - start:.2f}s in computing.\")\n",
    "df_pd.head()\n"
   ]
  },
  {
   "attachments": {},
   "cell_type": "markdown",
   "metadata": {},
   "source": [
    "# GC"
   ]
  },
  {
   "cell_type": "code",
   "execution_count": 31,
   "metadata": {},
   "outputs": [
    {
     "data": {
      "text/plain": [
       "243"
      ]
     },
     "execution_count": 31,
     "metadata": {},
     "output_type": "execute_result"
    }
   ],
   "source": [
    "import gc \n",
    "gc.collect()"
   ]
  },
  {
   "cell_type": "code",
   "execution_count": null,
   "metadata": {},
   "outputs": [],
   "source": []
  }
 ],
 "metadata": {
  "kernelspec": {
   "display_name": "my_py11",
   "language": "python",
   "name": "python3"
  },
  "language_info": {
   "codemirror_mode": {
    "name": "ipython",
    "version": 3
   },
   "file_extension": ".py",
   "mimetype": "text/x-python",
   "name": "python",
   "nbconvert_exporter": "python",
   "pygments_lexer": "ipython3",
   "version": "3.11.3"
  },
  "orig_nbformat": 4
 },
 "nbformat": 4,
 "nbformat_minor": 2
}
