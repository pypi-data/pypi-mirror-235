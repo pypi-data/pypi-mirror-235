{
 "cells": [
  {
   "cell_type": "code",
   "execution_count": null,
   "metadata": {},
   "outputs": [],
   "source": [
    "import pandas as pd\n",
    "import polars as pl\n",
    "import numpy as np\n",
    "from sklearn.datasets import fetch_openml\n",
    "from category_encoders import TargetEncoder\n",
    "\n",
    "display_cols = [\"Id\", \"MSSubClass\", \"MSZoning\", \"LotFrontage\", \"YearBuilt\", \"Heating\", \"CentralAir\"]"
   ]
  },
  {
   "attachments": {},
   "cell_type": "markdown",
   "metadata": {},
   "source": [
    "# Dataset"
   ]
  },
  {
   "cell_type": "code",
   "execution_count": null,
   "metadata": {},
   "outputs": [],
   "source": [
    "data = fetch_openml(name=\"house_prices\", as_frame=True, parser=\"auto\")\n",
    "df_pd = data.data[display_cols].copy()\n",
    "df_pd[\"MSZoning2\"] = df_pd[\"MSZoning\"]\n",
    "df_pd[\"target\"] = [1 if x > 200000 else 0 for x in data.target]\n",
    "del data"
   ]
  },
  {
   "cell_type": "code",
   "execution_count": null,
   "metadata": {},
   "outputs": [],
   "source": [
    "df:pl.DataFrame = pl.from_pandas(df_pd)"
   ]
  },
  {
   "cell_type": "code",
   "execution_count": null,
   "metadata": {},
   "outputs": [],
   "source": [
    "df.head()"
   ]
  },
  {
   "cell_type": "code",
   "execution_count": null,
   "metadata": {},
   "outputs": [],
   "source": [
    "to_be_encoded = [\"MSZoning\", 'CentralAir', 'Heating', \"MSZoning2\"]"
   ]
  },
  {
   "attachments": {},
   "cell_type": "markdown",
   "metadata": {},
   "source": [
    "# Target Encoder"
   ]
  },
  {
   "cell_type": "code",
   "execution_count": null,
   "metadata": {},
   "outputs": [],
   "source": [
    "df_pd"
   ]
  },
  {
   "cell_type": "code",
   "execution_count": null,
   "metadata": {},
   "outputs": [],
   "source": [
    "enc = TargetEncoder(cols=to_be_encoded, min_samples_leaf=20, smoothing=10)\\\n",
    "    .fit(df_pd[to_be_encoded], df_pd[\"target\"])\n",
    "\n",
    "enc.transform(df_pd[to_be_encoded]).tail(10)"
   ]
  },
  {
   "cell_type": "code",
   "execution_count": null,
   "metadata": {},
   "outputs": [],
   "source": [
    "import sys\n",
    "from dsds.encoders import smooth_target_encode # Currently this only works for binary target"
   ]
  },
  {
   "cell_type": "code",
   "execution_count": null,
   "metadata": {},
   "outputs": [],
   "source": [
    "df_transf = smooth_target_encode(df, cols=to_be_encoded\n",
    "            , target=\"target\"\n",
    "            , smoothing=10\n",
    "            , min_samples_leaf=20)"
   ]
  },
  {
   "cell_type": "code",
   "execution_count": null,
   "metadata": {},
   "outputs": [],
   "source": [
    "df_transf.head()"
   ]
  },
  {
   "cell_type": "code",
   "execution_count": null,
   "metadata": {},
   "outputs": [],
   "source": [
    "df_transf[to_be_encoded].frame_equal(pl.from_pandas(enc.transform(df_pd[to_be_encoded])))"
   ]
  },
  {
   "attachments": {},
   "cell_type": "markdown",
   "metadata": {},
   "source": [
    "# WOE Encoder"
   ]
  },
  {
   "cell_type": "code",
   "execution_count": null,
   "metadata": {},
   "outputs": [],
   "source": [
    "from dsds.encoders import woe_cat_encode\n",
    "from category_encoders import WOEEncoder"
   ]
  },
  {
   "cell_type": "code",
   "execution_count": null,
   "metadata": {},
   "outputs": [],
   "source": [
    "woe_cat_encode(df, \"target\", to_be_encoded).head()"
   ]
  },
  {
   "cell_type": "code",
   "execution_count": null,
   "metadata": {},
   "outputs": [],
   "source": [
    "woe = WOEEncoder(cols=to_be_encoded)\n",
    "woe.fit_transform(X=df_pd, y=df_pd[\"target\"])"
   ]
  },
  {
   "attachments": {},
   "cell_type": "markdown",
   "metadata": {},
   "source": [
    "# Time Comparison\n",
    "\n",
    "All benchmarks here may not be representative. On Linux, dsds will win by a large margin in all cases no matter the size of the dataframe. On windows, on smaller datasets, \n",
    "dsds is a bit slower, but beats other implementations on bigger datasets. It is potentially caused by some Polars issue on Windows. We are investigating this."
   ]
  },
  {
   "cell_type": "code",
   "execution_count": null,
   "metadata": {},
   "outputs": [],
   "source": [
    "%%timeit\n",
    "woe = WOEEncoder(cols=to_be_encoded)\n",
    "woe.fit_transform(X=df_pd, y=df_pd[\"target\"])"
   ]
  },
  {
   "cell_type": "code",
   "execution_count": null,
   "metadata": {},
   "outputs": [],
   "source": [
    "%%timeit \n",
    "woe_cat_encode(df, \"target\", to_be_encoded) # Take this with grain of salt, as this is done on Windows"
   ]
  },
  {
   "cell_type": "code",
   "execution_count": null,
   "metadata": {},
   "outputs": [],
   "source": [
    "%%timeit \n",
    "\n",
    "enc = TargetEncoder(cols=to_be_encoded, min_samples_leaf=20, smoothing=10)\\\n",
    "    .fit(df_pd[to_be_encoded], df_pd[\"target\"])\n",
    "\n",
    "enc.transform(df_pd[to_be_encoded])"
   ]
  },
  {
   "cell_type": "code",
   "execution_count": null,
   "metadata": {},
   "outputs": [],
   "source": [
    "%%timeit \n",
    "smooth_target_encode(df, cols=to_be_encoded\n",
    "                     , target=\"target\"\n",
    "                     , smoothing=10\n",
    "                     , min_samples_leaf=20\n",
    "                     , check_binary = False) # Take this with grain of salt, as this is done on Windows"
   ]
  },
  {
   "cell_type": "code",
   "execution_count": null,
   "metadata": {},
   "outputs": [],
   "source": [
    "# let's test it on bigger, more realistic data set size"
   ]
  },
  {
   "cell_type": "code",
   "execution_count": null,
   "metadata": {},
   "outputs": [],
   "source": [
    "df_pd_bigger = pd.concat([df_pd.copy()]*50)\n",
    "df_pd_bigger.shape"
   ]
  },
  {
   "cell_type": "code",
   "execution_count": null,
   "metadata": {},
   "outputs": [],
   "source": [
    "df_pl = pl.from_pandas(df_pd_bigger)\n",
    "df_pl.shape "
   ]
  },
  {
   "cell_type": "code",
   "execution_count": null,
   "metadata": {},
   "outputs": [],
   "source": [
    "%%timeit \n",
    "\n",
    "enc = TargetEncoder(cols=to_be_encoded, min_samples_leaf=20, smoothing=10)\\\n",
    "    .fit(df_pd_bigger[to_be_encoded], df_pd_bigger[\"target\"])\n",
    "\n",
    "enc.transform(df_pd_bigger[to_be_encoded])"
   ]
  },
  {
   "cell_type": "code",
   "execution_count": null,
   "metadata": {},
   "outputs": [],
   "source": [
    "%%timeit \n",
    "woe_cat_encode(df_pl, \"target\", to_be_encoded)"
   ]
  },
  {
   "cell_type": "code",
   "execution_count": null,
   "metadata": {},
   "outputs": [],
   "source": [
    "%%timeit \n",
    "\n",
    "enc = TargetEncoder(cols=to_be_encoded, min_samples_leaf=20, smoothing=10)\\\n",
    "    .fit(df_pd_bigger[to_be_encoded], df_pd_bigger[\"target\"])\n",
    "\n",
    "enc.transform(df_pd_bigger[to_be_encoded])[to_be_encoded]"
   ]
  },
  {
   "cell_type": "code",
   "execution_count": null,
   "metadata": {},
   "outputs": [],
   "source": [
    "%%timeit \n",
    "smooth_target_encode(df_pl, cols=to_be_encoded\n",
    "                     , target=\"target\"\n",
    "                     , smoothing=10\n",
    "                     , min_samples_leaf=20\n",
    "                     , check_binary = False)"
   ]
  },
  {
   "cell_type": "code",
   "execution_count": null,
   "metadata": {},
   "outputs": [],
   "source": [
    "# On bigger datasets, this is much faster\n",
    "# I don't know why but on Windows, the performance sacles strangely...\n",
    "# This doesn't happen when I test on Linux."
   ]
  },
  {
   "cell_type": "code",
   "execution_count": null,
   "metadata": {},
   "outputs": [],
   "source": []
  }
 ],
 "metadata": {
  "kernelspec": {
   "display_name": "my_py11",
   "language": "python",
   "name": "python3"
  },
  "language_info": {
   "codemirror_mode": {
    "name": "ipython",
    "version": 3
   },
   "file_extension": ".py",
   "mimetype": "text/x-python",
   "name": "python",
   "nbconvert_exporter": "python",
   "pygments_lexer": "ipython3",
   "version": "3.11.3"
  },
  "orig_nbformat": 4
 },
 "nbformat": 4,
 "nbformat_minor": 2
}
