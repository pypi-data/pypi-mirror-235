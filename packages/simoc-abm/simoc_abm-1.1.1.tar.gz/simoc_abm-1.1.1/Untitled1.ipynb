{
 "cells": [
  {
   "cell_type": "code",
   "execution_count": 9,
   "id": "185741f9",
   "metadata": {},
   "outputs": [
    {
     "name": "stdout",
     "output_type": "stream",
     "text": [
      "1h \t 0.18845677375793457\n",
      "1hg_sam \t 0.981856107711792\n",
      "1hrad \t 0.18434691429138184\n",
      "4h \t 0.0469517707824707\n",
      "4hg \t 1.2318871021270752\n",
      "b2_mission1a \t 7.942238092422485\n",
      "b2_mission1b \t 4.292952060699463\n",
      "b2_mission2 \t 3.023620128631592\n"
     ]
    }
   ],
   "source": [
    "import sys, json, time\n",
    "\n",
    "sys.path.append('src')\n",
    "from simoc_abm.agent_model import AgentModel\n",
    "\n",
    "def generate_simdata_file(stem):\n",
    "    with open(f'src/simoc_abm/data_files/config_{stem}.json') as f:\n",
    "        data = json.load(f)\n",
    "    data['location'] = 'earth'\n",
    "    model = AgentModel.from_config(**data)\n",
    "    while not model.is_terminated:\n",
    "        model.step()\n",
    "    records = model.get_records()\n",
    "        \n",
    "stems = [\n",
    "    '1h',\n",
    "    '1hg_sam',\n",
    "    '1hrad',\n",
    "    '4h',\n",
    "    '4hg',\n",
    "    'b2_mission1a',\n",
    "    'b2_mission1b',\n",
    "    'b2_mission2',\n",
    "]\n",
    "for stem in stems:\n",
    "    start_time = time.time()\n",
    "    generate_simdata_file(stem)\n",
    "    elapsed_time = time.time() - start_time\n",
    "    print(stem, '\\t', elapsed_time)"
   ]
  },
  {
   "cell_type": "code",
   "execution_count": null,
   "id": "90c627ec",
   "metadata": {},
   "outputs": [],
   "source": []
  }
 ],
 "metadata": {
  "kernelspec": {
   "display_name": "Python 3 (ipykernel)",
   "language": "python",
   "name": "python3"
  },
  "language_info": {
   "codemirror_mode": {
    "name": "ipython",
    "version": 3
   },
   "file_extension": ".py",
   "mimetype": "text/x-python",
   "name": "python",
   "nbconvert_exporter": "python",
   "pygments_lexer": "ipython3",
   "version": "3.11.3"
  }
 },
 "nbformat": 4,
 "nbformat_minor": 5
}
