{
 "cells": [
  {
   "attachments": {},
   "cell_type": "markdown",
   "id": "dd5f1f6a",
   "metadata": {},
   "source": [
    "https://www.geeksforgeeks.org/stock-price-prediction-using-machine-learning-in-python/"
   ]
  },
  {
   "cell_type": "code",
   "execution_count": null,
   "id": "d2323a78",
   "metadata": {
    "scrolled": true
   },
   "outputs": [],
   "source": [
    "import numpy as np\n",
    "import pandas as pd\n",
    "import matplotlib.pyplot as plt\n",
    "import seaborn as sb\n",
    " \n",
    "from sklearn.model_selection import train_test_split\n",
    "from sklearn.preprocessing import StandardScaler\n",
    "from sklearn.linear_model import LogisticRegression\n",
    "from sklearn.svm import SVC\n",
    "from xgboost import XGBClassifier\n",
    "from sklearn import metrics\n",
    " \n",
    "import warnings\n",
    "warnings.filterwarnings('ignore')"
   ]
  },
  {
   "cell_type": "code",
   "execution_count": null,
   "id": "efd18039",
   "metadata": {},
   "outputs": [],
   "source": [
    "#df = pd.read_csv('c:/data/^KS11.csv')\n",
    "\n",
    "import pandas as pd\n",
    "import yfinance as yf\n",
    "symbol = 'MSFT'\n",
    "period = '20y'\n",
    "interval = '1d'\n",
    "\n",
    "\n",
    "q = yf.Ticker(symbol)\n",
    "df = q.history(period=period, interval=interval)\n",
    "\n",
    "df.reset_index(inplace=True)\n",
    "\n",
    "df = df.drop(['Dividends', 'Stock Splits', 'Capital Gains'], axis=1)\n",
    "\n",
    "df['Date'] = df['Date'].dt.strftime('%Y-%m-%d')\n",
    "\n",
    "splitted = df['Date'].str.split('-', expand=True)\n",
    " \n",
    "df['day'] = splitted[2].astype('int')\n",
    "df['month'] = splitted[1].astype('int')\n",
    "df['year'] = splitted[0].astype('int')\n",
    "\n",
    "print('shape', df.shape)\n",
    "\n",
    "df.head()\n",
    "\n"
   ]
  },
  {
   "cell_type": "code",
   "execution_count": null,
   "id": "bf95cd5d",
   "metadata": {},
   "outputs": [],
   "source": [
    "plt.figure(figsize=(15,5))\n",
    "plt.plot(df['Close'])\n",
    "plt.title(symbol+' Close price.', fontsize=15)\n",
    "plt.ylabel('Price in dollars.')\n",
    "plt.show()"
   ]
  },
  {
   "cell_type": "code",
   "execution_count": null,
   "id": "b075ebc5",
   "metadata": {},
   "outputs": [],
   "source": [
    "features = ['Open', 'High', 'Low', 'Close', 'Volume']\n",
    " \n",
    "plt.subplots(figsize=(20,10))\n",
    " \n",
    "for i, col in enumerate(features):\n",
    "  plt.subplot(2,3,i+1)\n",
    "  sb.distplot(df[col])\n",
    "plt.show()"
   ]
  },
  {
   "cell_type": "code",
   "execution_count": null,
   "id": "8656d8da",
   "metadata": {},
   "outputs": [],
   "source": [
    "plt.subplots(figsize=(20,10))\n",
    "for i, col in enumerate(features):\n",
    "  plt.subplot(2,3,i+1)\n",
    "  sb.boxplot(df[col])\n",
    "plt.show()"
   ]
  },
  {
   "cell_type": "code",
   "execution_count": null,
   "id": "536c2f4b",
   "metadata": {},
   "outputs": [],
   "source": [
    "df['is_quarter_end'] = np.where(df['month']%3==0,1,0)\n",
    "df.head()"
   ]
  },
  {
   "cell_type": "code",
   "execution_count": null,
   "id": "961653ed",
   "metadata": {},
   "outputs": [],
   "source": [
    "dd = df.drop(['Date'], axis=1)\n",
    "data_grouped = dd.groupby('year').mean()\n",
    "plt.subplots(figsize=(20,10))\n",
    " \n",
    "for i, col in enumerate(['Open', 'High', 'Low', 'Close']):\n",
    "  plt.subplot(2,2,i+1)\n",
    "  data_grouped[col].plot.bar()\n",
    "plt.show()"
   ]
  },
  {
   "cell_type": "code",
   "execution_count": null,
   "id": "a9aff706",
   "metadata": {},
   "outputs": [],
   "source": [
    "dd.groupby('is_quarter_end').mean()"
   ]
  },
  {
   "cell_type": "code",
   "execution_count": null,
   "id": "3b14d401",
   "metadata": {},
   "outputs": [],
   "source": [
    "df['open-close']  = df['Open'] - df['Close']\n",
    "df['low-high']  = df['Low'] - df['High']\n",
    "df['target'] = np.where(df['Close'].shift(-1) > df['Close'], 1, 0)"
   ]
  },
  {
   "cell_type": "code",
   "execution_count": null,
   "id": "24d52c76",
   "metadata": {},
   "outputs": [],
   "source": [
    "plt.pie(df['target'].value_counts().values,\n",
    "        labels=[0, 1], autopct='%1.1f%%')\n",
    "plt.show()"
   ]
  },
  {
   "cell_type": "code",
   "execution_count": null,
   "id": "6e2020d0",
   "metadata": {},
   "outputs": [],
   "source": [
    "dd = df.drop(['Date'], axis=1)\n",
    "\n",
    "plt.figure(figsize=(10, 10))\n",
    " \n",
    "# As our concern is with the highly\n",
    "# correlated features only so, we will visualize\n",
    "# our heatmap as per that criteria only.\n",
    "sb.heatmap(dd.corr() > 0.9, annot=True, cbar=False)\n",
    "plt.show()"
   ]
  },
  {
   "cell_type": "code",
   "execution_count": null,
   "id": "5c4463ad",
   "metadata": {},
   "outputs": [],
   "source": []
  },
  {
   "cell_type": "code",
   "execution_count": null,
   "id": "23a8cbce",
   "metadata": {},
   "outputs": [],
   "source": [
    "features = df[['open-close', 'low-high', 'is_quarter_end']]\n",
    "target = df['target']\n",
    " \n",
    "scaler = StandardScaler()\n",
    "features = scaler.fit_transform(features)\n",
    " \n",
    "X_train, X_valid, Y_train, Y_valid = train_test_split(\n",
    "    features, target, test_size=0.1, random_state=2022)\n",
    "print(X_train.shape, X_valid.shape)"
   ]
  },
  {
   "cell_type": "code",
   "execution_count": null,
   "id": "30e0753d",
   "metadata": {},
   "outputs": [],
   "source": [
    "models = [LogisticRegression(), SVC(\n",
    "  kernel='poly', probability=True), XGBClassifier()]\n",
    " \n",
    "for i in range(3):\n",
    "  models[i].fit(X_train, Y_train)\n",
    " \n",
    "  print(f'{models[i]} : ')\n",
    "  print('Training Accuracy : ', metrics.roc_auc_score(\n",
    "    Y_train, models[i].predict_proba(X_train)[:,1]))\n",
    "  print('Validation Accuracy : ', metrics.roc_auc_score(\n",
    "    Y_valid, models[i].predict_proba(X_valid)[:,1]))\n",
    "  print()"
   ]
  },
  {
   "cell_type": "code",
   "execution_count": null,
   "id": "da33bf60",
   "metadata": {},
   "outputs": [],
   "source": [
    "metrics.ConfusionMatrixDisplay(models[0], X_valid, Y_valid)\n",
    "plt.show()\n",
    "#class sklearn.metrics.ConfusionMatrixDisplay(confusion_matrix, *, display_labels=None)"
   ]
  },
  {
   "cell_type": "code",
   "execution_count": null,
   "id": "f749b11b",
   "metadata": {},
   "outputs": [],
   "source": [
    "import matplotlib.pyplot as plt\n",
    "from sklearn.datasets import make_classification\n",
    "from sklearn.metrics import confusion_matrix, ConfusionMatrixDisplay\n",
    "from sklearn.model_selection import train_test_split\n",
    "from sklearn.svm import SVC\n",
    "#X, y = make_classification(random_state=0)\n",
    "#X_train, X_test, y_train, y_test = train_test_split(X, y,\n",
    "#                                                    random_state=0)\n",
    "clf = SVC(random_state=0)\n",
    "clf.fit(X_train, Y_train)\n",
    "SVC(random_state=0)\n",
    "predictions = clf.predict(X_valid)\n",
    "cm = confusion_matrix(Y_valid, predictions, labels=clf.classes_)\n",
    "disp = ConfusionMatrixDisplay(confusion_matrix=cm,\n",
    "                               display_labels=clf.classes_)\n",
    "disp.plot()\n",
    "\n",
    "plt.show()\n"
   ]
  },
  {
   "cell_type": "code",
   "execution_count": null,
   "id": "5ebb2682",
   "metadata": {},
   "outputs": [],
   "source": [
    "import matplotlib.pyplot as plt\n",
    "import seaborn as sb\n",
    "import pandas as pd\n",
    "import yfinance as yf\n",
    "from datetime import time, date, datetime, timedelta\n",
    "import pytz, holidays\n",
    "from pytz import timezone\n",
    "import numpy as np\n",
    "\n",
    "import warnings\n",
    "\n",
    "warnings.filterwarnings(\"ignore\")\n",
    "\n",
    "import sys\n",
    "\n",
    "symbol='MSFT'\n",
    "\n",
    "q = yf.Ticker(symbol)\n",
    "\n",
    "current_price = q.history(period='1d', interval='1d').iloc[0]['Close']\n",
    "\n",
    "max_calls = q.option_chain().calls\n",
    "max_puts = q.option_chain().puts\n",
    "#calls = q.option_chain(exp_date.strftime(\"%Y-%m-%d\")).calls           \n",
    "#puts = q.option_chain(exp_date.strftime(\"%Y-%m-%d\")).puts     \n",
    "\n",
    "#today = datetime.now(timezone(app_settings.TIMEZONE))                 \n",
    "#days_to_expire = (exp_date.tz_localize(timezone(app_settings.TIMEZONE))-today).days\n",
    "#calls[oq.DAYS_TO_EXPIRE] = puts[oq.DAYS_TO_EXPIRE] =  days_to_expire                \n",
    "#calls[oq.EXP_DATE] =puts[oq.EXP_DATE] = exp_date.strftime(\"%Y-%m-%d\")\n",
    "#calls[oq.ANNUALIZED_RETURN] = puts[oq.ANNUALIZED_RETURN] = np.nan\n",
    "#calls[oq.PNL] = puts[oq.PNL] = np.nan     \n",
    "#calls[oq.PROFIT] = puts[oq.PROFIT] = np.nan      \n",
    "\n",
    "\n",
    "max_calls['diff'] = max_calls.apply(lambda x: (current_price-x['strike'])/current_price, axis = 1)    \n",
    "max_puts['diff'] = max_puts.apply(lambda x: (current_price-x['strike'])/current_price, axis = 1) \n",
    "max_calls['price'] = (max_calls['ask'] + max_calls['bid'])\n",
    "max_puts['price'] = (max_puts['ask'] + max_puts['bid'])\n",
    "max_calls['bid ask spread'] = (max_calls['ask'] + max_calls['bid'])\n",
    "max_puts['bid ask spread'] = (max_puts['ask'] + max_puts['bid'])\n",
    "                                            \n",
    "max_calls                                \n",
    "\n",
    "features = ['impliedVolatility', 'volume', 'openInterest', 'strike', 'price', 'bid ask spread', 'diff']\n",
    " \n",
    "df = max_puts\n",
    "\n",
    "plt.subplots(figsize=(20,10))\n",
    " \n",
    "for i, col in enumerate(features):\n",
    "  plt.subplot(3,3,i+1)\n",
    "  sb.distplot(df[col])\n",
    "plt.show()\n",
    "\n",
    "plt.subplots(figsize=(20,10))\n",
    "for i, col in enumerate(features):\n",
    "  plt.subplot(3,3,i+1)\n",
    "  sb.boxplot(df[col])\n",
    "plt.show()\n",
    "\n",
    "df = max_puts\n",
    "\n",
    "plt.subplots(figsize=(20,10))\n",
    " \n",
    "for i, col in enumerate(features):\n",
    "  plt.subplot(3,3,i+1)\n",
    "  sb.distplot(df[col])\n",
    "plt.show()\n",
    "\n",
    "plt.subplots(figsize=(20,10))\n",
    "for i, col in enumerate(features):\n",
    "  plt.subplot(3,3,i+1)\n",
    "  sb.boxplot(df[col])\n",
    "plt.show()"
   ]
  },
  {
   "cell_type": "code",
   "execution_count": null,
   "id": "9a8a2533",
   "metadata": {},
   "outputs": [],
   "source": [
    "total_puts['strike']"
   ]
  },
  {
   "cell_type": "code",
   "execution_count": null,
   "id": "7c174379",
   "metadata": {},
   "outputs": [],
   "source": [
    "import sys\n",
    "\n",
    "sys.path.append(r'\\Users\\jimhu\\option_trader\\src')\n",
    "from tradingBot.utils.dataGetter import get_multiple_option_chains\n",
    "from tradingBot.utils.dataGetter import pick_option_long\n",
    "from tradingBot.utils.dataGetter import pick_option_short\n",
    "from tradingBot.utils.dataGetter import get_price_history"
   ]
  },
  {
   "cell_type": "code",
   "execution_count": null,
   "id": "b1b402cf",
   "metadata": {},
   "outputs": [],
   "source": [
    "sys.path.append(r'\\Users\\jimhu\\option_trader\\src')\n",
    "from tradingBot.utils.dataGetter import get_multiple_option_chains\n",
    "\n",
    "symbol='MSFT'\n",
    "\n",
    "total_calls, total_puts = get_multiple_option_chains(symbol, \n",
    "                                strike_range=1,\n",
    "                                target_exp_date_list=[],                                 \n",
    "                                max_days_to_expire=720, \n",
    "                                max_bid_ask_spread=10,\n",
    "                                min_open_interest=100)   \n",
    "\n",
    "#puts = puts.sort_values('price', ascending=False)\n",
    "print('count= ',total_puts.shape[0])\n",
    "total_puts['strike']"
   ]
  },
  {
   "cell_type": "code",
   "execution_count": null,
   "id": "6522c362",
   "metadata": {},
   "outputs": [],
   "source": [
    "current_price = get_price_history(symbol, period='1d', interval='1d').iloc[0]['Close']\n",
    "\n",
    "current_price"
   ]
  },
  {
   "cell_type": "code",
   "execution_count": null,
   "id": "976ae7e0",
   "metadata": {
    "scrolled": true
   },
   "outputs": [],
   "source": [
    "features = ['impliedVolatility', 'days to expire', 'strike', 'volume', 'openInterest', 'bid ask spread', 'win prob short', 'delta']\n",
    " \n",
    "plt.subplots(figsize=(30,20))\n",
    " \n",
    "df = total_calls\n",
    "\n",
    "for i, col in enumerate(features):\n",
    "  plt.subplot(3,3,i+1)\n",
    "  sb.distplot(df[col])\n",
    "plt.show()"
   ]
  },
  {
   "cell_type": "code",
   "execution_count": null,
   "id": "9676cfb3",
   "metadata": {},
   "outputs": [],
   "source": [
    "from tradingBot.consts import asset as at\n",
    "from tradingBot.consts import optionQuote as oq\n",
    "\n",
    "calls=total_calls\n",
    "puts=max_puts\n",
    "\n",
    "target_price = current_price           \n",
    "\n",
    "min_annualized_return=20\n",
    "min_IV = 0.5\n",
    "min_pnl = 0.25\n",
    "max_bid_ask_spread=1.0\n",
    "max_days_to_expire=90 \n",
    "min_open_interest=100\n",
    "\n",
    "i = puts.shape[0]\n",
    "puts = puts[puts[oq.STRIKE] >= target_price]\n",
    "print('%d -> %d put fillterd out by IV >= %.2f' % (i, puts.shape[0], min_IV))    \n",
    "#logger.debug('%d -> %d put fillterd out by IV >= %.2f' % (i, puts.shape[0], min_IV))\n",
    "\n",
    "    \n",
    "#i = calls.shape[0]\n",
    "#calls = calls[calls[oq.IMPLIED_VOLATILITY] >= min_IV]\n",
    "#print('%d -> %d call fillterd out by IV >= %.2f' % (i, calls.shape[0], min_IV))\n",
    "#logger.debug('%d -> %d call fillterd out by IV >= %.2f' % (i, calls.shape[0], min_IV))"
   ]
  },
  {
   "cell_type": "code",
   "execution_count": null,
   "id": "46f94dfb",
   "metadata": {},
   "outputs": [],
   "source": [
    "total_puts.sort_values('strike', ascending=False)[['strike', 'impliedVolatility' ]]"
   ]
  },
  {
   "cell_type": "code",
   "execution_count": null,
   "id": "4ef11212",
   "metadata": {},
   "outputs": [],
   "source": [
    "total_puts.sort_values('strike', ascending=False)[['exp date', 'strike', 'price', 'delta','impliedVolatility' ]]"
   ]
  },
  {
   "cell_type": "code",
   "execution_count": null,
   "id": "d05ec967",
   "metadata": {},
   "outputs": [],
   "source": [
    "'''\n",
    "\n",
    "    i = puts.shape[0]\n",
    "    puts = puts[puts[oq.IMPLIED_VOLATILITY] >= min_IV]\n",
    "    #print('%d -> %d put fillterd out by IV >= %.2f' % (i, puts.shape[0], min_IV))    \n",
    "    logger.debug('%d -> %d put fillterd out by IV >= %.2f' % (i, puts.shape[0], min_IV))\n",
    "\n",
    "    calls[oq.PROFIT] = calls.apply(lambda x: x[oq.PRICE] if target_price < x[oq.STRIKE] else -10000, axis = 1)    \n",
    "    puts[oq.PROFIT] = puts.apply(lambda x: x[oq.PRICE] if target_price > x[oq.STRIKE] else x[oq.PRICE] - x[oq.STRIKE] , axis = 1)    \n",
    "\n",
    "    calls[oq.ANNUALIZED_RETURN] = calls.apply(lambda x: pow(1+(x[oq.PROFIT]/x[oq.STRIKE]), 52/(x[oq.DAYS_TO_EXPIRE]/7)).real-1, axis = 1)\n",
    "    puts[oq.ANNUALIZED_RETURN] = puts.apply(lambda x: pow(1+(x[oq.PROFIT]/x[oq.STRIKE]), 52/(x[oq.DAYS_TO_EXPIRE]/7)).real-1, axis = 1)\n",
    "\n",
    "    calls[oq.PNL] = calls.apply(lambda x: x[oq.PROFIT]/x[oq.PRICE], axis = 1)    \n",
    "    puts[oq.PNL] = puts.apply(lambda x: x[oq.PROFIT]/x[oq.PRICE], axis = 1)    \n",
    " \n",
    "    i = calls.shape[0]\n",
    "    calls = calls[calls[oq.PNL] >= min_pnl]\n",
    "    #print('%d -> %d call fillterd out by PNL >= %.2f' % (i, calls.shape[0], min_pnl))    \n",
    "    logger.debug('%d -> %d call fillterd out by PNL >= %.2f' % (i, calls.shape[0], min_pnl))\n",
    "\n",
    "    i = puts.shape[0]\n",
    "    #print('%d -> %d puts fillterd out by PNL >= %.2f' % (i, puts.shape[0], min_pnl))      \n",
    "    logger.debug('%d -> %d puts fillterd out by PNL >= %.2f' % (i, puts.shape[0], min_pnl))\n",
    "\n",
    "    calls = calls.sort_values(oq.PNL)\n",
    "    puts = puts.sort_values(oq.PNL)\n",
    "\n",
    "    return calls, puts\n",
    "\n",
    "'''"
   ]
  },
  {
   "cell_type": "code",
   "execution_count": null,
   "id": "01944cfe",
   "metadata": {},
   "outputs": [],
   "source": [
    "i"
   ]
  },
  {
   "cell_type": "code",
   "execution_count": null,
   "id": "766070ce",
   "metadata": {},
   "outputs": [],
   "source": [
    "p = total_puts[total_puts['exp date'] == '2023-06-02']\n",
    "p = p.sort_values('strike')\n",
    "p[['exp date', 'strike', 'lastPrice', 'price', 'delta', 'theta','gamma','vega', 'impliedVolatility', 'win prob short' ]]"
   ]
  },
  {
   "cell_type": "code",
   "execution_count": null,
   "id": "2a09ea59",
   "metadata": {},
   "outputs": [],
   "source": [
    "from tradingBot.utils.dataGetter import pick_option_long\n",
    "from tradingBot.utils.dataGetter import pick_option_short\n",
    "from tradingBot.utils.dataGetter import get_price_history\n",
    "\n",
    "symbol = 'MSFT'\n",
    "\n",
    "current_price = get_price_history(symbol, period='1d', interval='1d').iloc[0]['Close']\n",
    "\n",
    "target_price = current_price\n",
    "\n",
    "calls, lputs = pick_option_long(symbol, \n",
    "                                target_price,            \n",
    "                                min_annualized_return=20,\n",
    "                                min_pnl = 0.25,\n",
    "                                max_IV = 0.3,\n",
    "                                max_bid_ask_spread=5,\n",
    "                                max_days_to_expire=90, \n",
    "                                min_open_interest=100)"
   ]
  },
  {
   "cell_type": "code",
   "execution_count": null,
   "id": "45ec0786",
   "metadata": {},
   "outputs": [],
   "source": [
    "#calls.sort_values('delta')[['exp date', 'strike', 'delta']]\n",
    "calls"
   ]
  },
  {
   "cell_type": "code",
   "execution_count": null,
   "id": "80f71d4f",
   "metadata": {},
   "outputs": [],
   "source": [
    "from tradingBot.utils.dataGetter import pick_option_long\n",
    "from tradingBot.utils.dataGetter import pick_option_short\n",
    "from tradingBot.utils.dataGetter import get_price_history\n",
    "\n",
    "symbol = 'MSFT'\n",
    "\n",
    "current_price = get_price_history(symbol, period='1d', interval='1d').iloc[0]['Close']\n",
    "\n",
    "target_price = current_price * 1.0\n",
    "\n",
    "calls, sputs = pick_option_short(symbol, \n",
    "                                target_price,            \n",
    "                                min_annualized_return=20,\n",
    "                                min_pnl = 0.25,\n",
    "                                min_IV = 0.3,\n",
    "                                max_bid_ask_spread=5,\n",
    "                                max_days_to_expire=90, \n",
    "                                min_open_interest=100)\n",
    "\n",
    "print(current_price)"
   ]
  },
  {
   "cell_type": "code",
   "execution_count": null,
   "id": "31dc9377",
   "metadata": {},
   "outputs": [],
   "source": [
    "sputs.sort_values('price')[['exp date', 'strike', 'price', 'delta']]"
   ]
  },
  {
   "cell_type": "code",
   "execution_count": null,
   "id": "f38fb280",
   "metadata": {},
   "outputs": [],
   "source": [
    "calls"
   ]
  },
  {
   "cell_type": "code",
   "execution_count": null,
   "id": "201dbdcb",
   "metadata": {},
   "outputs": [],
   "source": [
    "import sys\n",
    "sys.path.append(r'\\Users\\jimhu\\option_trader\\src')\n",
    "\n",
    "from tradingBot.utils.dataGetter import pick_vertical_put_spreads\n",
    "from tradingBot.utils.dataGetter import get_price_history\n",
    "\n",
    "symbol = 'MSFT'\n",
    "current_price = get_price_history(symbol, period='1d', interval='1d').iloc[0]['Close']\n",
    "target_price = current_price * 0.9\n",
    "\n",
    "target_high_price = current_price * 1\n",
    "target_low_price = current_price * 1\n",
    "\n",
    "spread_list = pick_vertical_put_spreads(symbol, target_high_price, target_low_price,\n",
    "                                        credit=True,\n",
    "                                        target_exp_date_list=[],\n",
    "                                        target_spread_list=[],\n",
    "                                        min_pnl=0.8,\n",
    "                                        min_short_IV=0.1,\n",
    "                                        max_long_IV=0.9,\n",
    "                                        min_win_prob=50,\n",
    "                                        min_annualized_return=25,\n",
    "                                        max_bid_ask_spread=2.0,\n",
    "                                        max_days_to_expire=90, \n",
    "                                        min_open_interest=100)\n",
    "\n",
    "print(spread_list)"
   ]
  },
  {
   "cell_type": "code",
   "execution_count": null,
   "id": "fdaf1aac",
   "metadata": {},
   "outputs": [],
   "source": [
    "len(spread_list)"
   ]
  },
  {
   "cell_type": "code",
   "execution_count": null,
   "id": "0b25fef1",
   "metadata": {},
   "outputs": [],
   "source": [
    "from tradingBot.consts import asset as at\n",
    "from tradingBot.utils.optionTool import delta_call\n",
    "from tradingBot.utils.optionTool import delta_put\n",
    "from tradingBot.utils.optionTool import time_to_maturity_in_year\n",
    "\n",
    "trade_date = datetime.now().astimezone(timezone(app_settings.TIMEZONE)).date()\n",
    "\n",
    "stock_price = get_price_history(symbol, period='1d', interval='1d').iloc[0]['Close']\n"
   ]
  },
  {
   "cell_type": "code",
   "execution_count": null,
   "id": "0a14262c",
   "metadata": {},
   "outputs": [],
   "source": [
    "stock_price"
   ]
  },
  {
   "cell_type": "code",
   "execution_count": null,
   "id": "84f3b43b",
   "metadata": {},
   "outputs": [],
   "source": [
    "exp_date='2023-06-02'\n",
    "time_to_maturity_in_year(trade_date, exp_date)"
   ]
  },
  {
   "cell_type": "code",
   "execution_count": null,
   "id": "25450c74",
   "metadata": {},
   "outputs": [],
   "source": [
    "exp_date='2023-06-02'\n",
    "\n",
    "T = time_to_maturity_in_year(trade_date, exp_date)\n",
    "print(T)\n",
    "strike=300\n",
    "\n",
    "print('call delta=', delta_call(stock_price, strike, T))\n",
    "    \n",
    "print('put delta=', delta_put(stock_price, strike, T))\n",
    "    "
   ]
  },
  {
   "cell_type": "code",
   "execution_count": null,
   "id": "157ad86c",
   "metadata": {},
   "outputs": [],
   "source": [
    "price0=stock_price\n",
    "vol=0.25 \n",
    "interest=0.05\n",
    "dividend=0.02    \n",
    "Time=T"
   ]
  },
  {
   "cell_type": "code",
   "execution_count": null,
   "id": "432d5a3d",
   "metadata": {},
   "outputs": [],
   "source": [
    "from scipy.stats import norm\n",
    "import numpy as np\n",
    "\n",
    "def black_scholes_greeks(S, K, T, r, sigma, option = 'call'):\n",
    "    d1 = (np.log(S / K) + (r + 0.5 * sigma ** 2) * T) / (sigma * np.sqrt(T))\n",
    "    d2 = d1 - sigma * np.sqrt(T)\n",
    "    \n",
    "    if option == 'call':\n",
    "        delta = norm.cdf(d1)\n",
    "        theta = (-S * norm.pdf(d1) * sigma / (2 * np.sqrt(T)) - r * K * np.exp(-r * T) * norm.cdf(d2)) / 365\n",
    "    elif option == 'put':\n",
    "        delta = norm.cdf(d1) - 1\n",
    "        theta = (-S * norm.pdf(d1) * sigma / (2 * np.sqrt(T)) + r * K * np.exp(-r * T) * norm.cdf(-d2)) / 365\n",
    "    \n",
    "    gamma = norm.pdf(d1) / (S * sigma * np.sqrt(T))\n",
    "    vega = S * norm.pdf(d1) * np.sqrt(T) / 100\n",
    "    \n",
    "    return delta, gamma, theta, vega"
   ]
  },
  {
   "cell_type": "code",
   "execution_count": null,
   "id": "11352f4b",
   "metadata": {},
   "outputs": [],
   "source": [
    "exp_date='2023-06-02'\n",
    "\n",
    "trade_date = datetime.now().astimezone(timezone(app_settings.TIMEZONE)).date()\n",
    "\n",
    "stock_price = get_price_history(symbol, period='1d', interval='1d').iloc[0]['Close']\n",
    "\n",
    "\n",
    "strike=300\n",
    "\n",
    "print('call delta=', delta_call(stock_price, strike, T))\n",
    "    \n",
    "print('put delta=', delta_put(stock_price, strike, T))\n",
    "\n",
    "S = stock_price\n",
    "K = strike\n",
    "T = time_to_maturity_in_year(trade_date, exp_date)\n",
    "print(T)\n",
    "sigma=0.25\n",
    "r=0.05\n",
    "\n",
    "black_scholes_greeks(S, K, T, r, sigma)"
   ]
  },
  {
   "cell_type": "code",
   "execution_count": null,
   "id": "816c00f0",
   "metadata": {},
   "outputs": [],
   "source": []
  }
 ],
 "metadata": {
  "kernelspec": {
   "display_name": "Python 3 (ipykernel)",
   "language": "python",
   "name": "python3"
  },
  "language_info": {
   "codemirror_mode": {
    "name": "ipython",
    "version": 3
   },
   "file_extension": ".py",
   "mimetype": "text/x-python",
   "name": "python",
   "nbconvert_exporter": "python",
   "pygments_lexer": "ipython3",
   "version": "3.11.3"
  }
 },
 "nbformat": 4,
 "nbformat_minor": 5
}
