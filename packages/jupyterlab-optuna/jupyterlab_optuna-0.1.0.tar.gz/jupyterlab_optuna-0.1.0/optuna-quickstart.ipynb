{
 "cells": [
  {
   "cell_type": "code",
   "execution_count": 1,
   "id": "23e6834d-27a5-47cb-8809-ba3133533a90",
   "metadata": {},
   "outputs": [
    {
     "name": "stdout",
     "output_type": "stream",
     "text": [
      "Requirement already satisfied: optuna in ./venv/lib/python3.11/site-packages (3.3.0)\n",
      "Requirement already satisfied: alembic>=1.5.0 in ./venv/lib/python3.11/site-packages (from optuna) (1.12.0)\n",
      "Requirement already satisfied: cmaes>=0.10.0 in ./venv/lib/python3.11/site-packages (from optuna) (0.10.0)\n",
      "Requirement already satisfied: colorlog in ./venv/lib/python3.11/site-packages (from optuna) (6.7.0)\n",
      "Requirement already satisfied: numpy in ./venv/lib/python3.11/site-packages (from optuna) (1.26.0)\n",
      "Requirement already satisfied: packaging>=20.0 in ./venv/lib/python3.11/site-packages (from optuna) (23.2)\n",
      "Requirement already satisfied: sqlalchemy>=1.3.0 in ./venv/lib/python3.11/site-packages (from optuna) (2.0.21)\n",
      "Requirement already satisfied: tqdm in ./venv/lib/python3.11/site-packages (from optuna) (4.66.1)\n",
      "Requirement already satisfied: PyYAML in ./venv/lib/python3.11/site-packages (from optuna) (6.0.1)\n",
      "Requirement already satisfied: Mako in ./venv/lib/python3.11/site-packages (from alembic>=1.5.0->optuna) (1.2.4)\n",
      "Requirement already satisfied: typing-extensions>=4 in ./venv/lib/python3.11/site-packages (from alembic>=1.5.0->optuna) (4.8.0)\n",
      "Requirement already satisfied: greenlet!=0.4.17 in ./venv/lib/python3.11/site-packages (from sqlalchemy>=1.3.0->optuna) (3.0.0)\n",
      "Requirement already satisfied: MarkupSafe>=0.9.2 in ./venv/lib/python3.11/site-packages (from Mako->alembic>=1.5.0->optuna) (2.1.3)\n",
      "\n",
      "\u001b[1m[\u001b[0m\u001b[34;49mnotice\u001b[0m\u001b[1;39;49m]\u001b[0m\u001b[39;49m A new release of pip is available: \u001b[0m\u001b[31;49m23.1.2\u001b[0m\u001b[39;49m -> \u001b[0m\u001b[32;49m23.2.1\u001b[0m\n",
      "\u001b[1m[\u001b[0m\u001b[34;49mnotice\u001b[0m\u001b[1;39;49m]\u001b[0m\u001b[39;49m To update, run: \u001b[0m\u001b[32;49mpip install --upgrade pip\u001b[0m\n"
     ]
    }
   ],
   "source": [
    "!pip install optuna"
   ]
  },
  {
   "cell_type": "code",
   "execution_count": 2,
   "id": "84f149fa-61aa-41f8-abfc-efe645f48fcb",
   "metadata": {},
   "outputs": [
    {
     "name": "stdout",
     "output_type": "stream",
     "text": [
      "Running 10 trials...\n"
     ]
    },
    {
     "name": "stderr",
     "output_type": "stream",
     "text": [
      "[I 2023-10-05 17:16:42,706] A new study created in RDB with name: no-name-8d8c42a8-1979-4451-8baf-7a9c298d8157\n",
      "[I 2023-10-05 17:16:42,756] Trial 0 finished with value: 98.95421683512274 and parameters: {'x': 9.947573414412318, 'y': 0}. Best is trial 0 with value: 98.95421683512274.\n",
      "[I 2023-10-05 17:16:42,789] Trial 1 finished with value: 7684.553902648543 and parameters: {'x': -87.66729095077903, 'y': -1}. Best is trial 0 with value: 98.95421683512274.\n",
      "[I 2023-10-05 17:16:42,821] Trial 2 finished with value: 9349.547342025822 and parameters: {'x': -96.69822822588748, 'y': -1}. Best is trial 0 with value: 98.95421683512274.\n",
      "[I 2023-10-05 17:16:42,853] Trial 3 finished with value: 988.7985851696401 and parameters: {'x': -31.461064590532217, 'y': -1}. Best is trial 0 with value: 98.95421683512274.\n",
      "[I 2023-10-05 17:16:42,884] Trial 4 finished with value: 1056.226397155478 and parameters: {'x': -32.51501802483705, 'y': -1}. Best is trial 0 with value: 98.95421683512274.\n",
      "[I 2023-10-05 17:16:42,915] Trial 5 finished with value: 6358.991587021937 and parameters: {'x': 79.74328552939073, 'y': 0}. Best is trial 0 with value: 98.95421683512274.\n",
      "[I 2023-10-05 17:16:42,946] Trial 6 finished with value: 993.6285962957703 and parameters: {'x': 31.537732897210134, 'y': -1}. Best is trial 0 with value: 98.95421683512274.\n",
      "[I 2023-10-05 17:16:42,982] Trial 7 finished with value: 2363.236556443135 and parameters: {'x': -48.62341572167812, 'y': -1}. Best is trial 0 with value: 98.95421683512274.\n",
      "[I 2023-10-05 17:16:43,077] Trial 8 finished with value: 4729.801359090427 and parameters: {'x': -68.7662806838528, 'y': 1}. Best is trial 0 with value: 98.95421683512274.\n",
      "[I 2023-10-05 17:16:43,114] Trial 9 finished with value: 6436.222057076699 and parameters: {'x': 80.22606843836172, 'y': 0}. Best is trial 0 with value: 98.95421683512274.\n",
      "[I 2023-10-05 17:16:43,156] Trial 10 finished with value: 188.3414015727763 and parameters: {'x': 13.72375318827821, 'y': 0}. Best is trial 0 with value: 98.95421683512274.\n",
      "[I 2023-10-05 17:16:43,190] Trial 11 finished with value: 56.59811221226135 and parameters: {'x': 7.5231716856829305, 'y': 0}. Best is trial 11 with value: 56.59811221226135.\n",
      "[I 2023-10-05 17:16:43,224] Trial 12 finished with value: 11.05757098400522 and parameters: {'x': -3.325292616297883, 'y': 0}. Best is trial 12 with value: 11.05757098400522.\n",
      "[I 2023-10-05 17:16:43,257] Trial 13 finished with value: 101.14238003532898 and parameters: {'x': -10.056956797924956, 'y': 0}. Best is trial 12 with value: 11.05757098400522.\n",
      "[I 2023-10-05 17:16:43,293] Trial 14 finished with value: 1832.9472344773255 and parameters: {'x': 42.80125272088804, 'y': 1}. Best is trial 12 with value: 11.05757098400522.\n"
     ]
    },
    {
     "name": "stdout",
     "output_type": "stream",
     "text": [
      "Best value: 98.95421683512274 (params: {'x': 9.947573414412318, 'y': 0})\n",
      "\n",
      "Running 20 additional trials...\n"
     ]
    },
    {
     "name": "stderr",
     "output_type": "stream",
     "text": [
      "[I 2023-10-05 17:16:43,327] Trial 15 finished with value: 109.28006428333619 and parameters: {'x': -10.453710550964006, 'y': 0}. Best is trial 12 with value: 11.05757098400522.\n",
      "[I 2023-10-05 17:16:43,360] Trial 16 finished with value: 1875.3188458353914 and parameters: {'x': 43.30495174729319, 'y': 0}. Best is trial 12 with value: 11.05757098400522.\n",
      "[I 2023-10-05 17:16:43,393] Trial 17 finished with value: 41.73271278995264 and parameters: {'x': -6.3822184849746915, 'y': 1}. Best is trial 12 with value: 11.05757098400522.\n",
      "[I 2023-10-05 17:16:43,428] Trial 18 finished with value: 683.1696800759855 and parameters: {'x': -26.118378205317143, 'y': 1}. Best is trial 12 with value: 11.05757098400522.\n",
      "[I 2023-10-05 17:16:43,462] Trial 19 finished with value: 2057.4307653820388 and parameters: {'x': -45.347886007861916, 'y': 1}. Best is trial 12 with value: 11.05757098400522.\n",
      "[I 2023-10-05 17:16:43,497] Trial 20 finished with value: 119.06720997824021 and parameters: {'x': -10.865873640818773, 'y': 1}. Best is trial 12 with value: 11.05757098400522.\n",
      "[I 2023-10-05 17:16:43,530] Trial 21 finished with value: 151.61382864612295 and parameters: {'x': 12.313156729536214, 'y': 0}. Best is trial 12 with value: 11.05757098400522.\n",
      "[I 2023-10-05 17:16:43,566] Trial 22 finished with value: 3.877917016168527 and parameters: {'x': 1.696442458843956, 'y': 1}. Best is trial 22 with value: 3.877917016168527.\n",
      "[I 2023-10-05 17:16:43,599] Trial 23 finished with value: 683.2001365645153 and parameters: {'x': 26.118961245894052, 'y': 1}. Best is trial 22 with value: 3.877917016168527.\n",
      "[I 2023-10-05 17:16:43,633] Trial 24 finished with value: 231.38844027050666 and parameters: {'x': -15.178551982007594, 'y': 1}. Best is trial 22 with value: 3.877917016168527.\n",
      "[I 2023-10-05 17:16:43,667] Trial 25 finished with value: 12.080851023279417 and parameters: {'x': 3.328791225547108, 'y': 1}. Best is trial 22 with value: 3.877917016168527.\n",
      "[I 2023-10-05 17:16:43,702] Trial 26 finished with value: 4.996074231680072 and parameters: {'x': 1.9990183169946372, 'y': 1}. Best is trial 22 with value: 3.877917016168527.\n",
      "[I 2023-10-05 17:16:43,736] Trial 27 finished with value: 3915.7264560470476 and parameters: {'x': 62.56777490087887, 'y': 1}. Best is trial 22 with value: 3.877917016168527.\n",
      "[I 2023-10-05 17:16:43,770] Trial 28 finished with value: 300.93483192639786 and parameters: {'x': 17.318626733271834, 'y': 1}. Best is trial 22 with value: 3.877917016168527.\n",
      "[I 2023-10-05 17:16:43,804] Trial 29 finished with value: 9434.284221763504 and parameters: {'x': 97.12509573618708, 'y': 1}. Best is trial 22 with value: 3.877917016168527.\n",
      "[I 2023-10-05 17:16:43,845] Trial 30 finished with value: 34.7568154184903 and parameters: {'x': 5.810061567530098, 'y': 1}. Best is trial 22 with value: 3.877917016168527.\n",
      "[I 2023-10-05 17:16:43,878] Trial 31 finished with value: 1.0616031450241836 and parameters: {'x': -0.24819980867072333, 'y': 1}. Best is trial 31 with value: 1.0616031450241836.\n",
      "[I 2023-10-05 17:16:43,912] Trial 32 finished with value: 1.6794563491290204 and parameters: {'x': 0.8242914224526544, 'y': 1}. Best is trial 31 with value: 1.0616031450241836.\n",
      "[I 2023-10-05 17:16:43,946] Trial 33 finished with value: 555.3728426514584 and parameters: {'x': 23.54512354292197, 'y': 1}. Best is trial 31 with value: 1.0616031450241836.\n",
      "[I 2023-10-05 17:16:43,982] Trial 34 finished with value: 10.24543038908292 and parameters: {'x': 3.040629932938719, 'y': 1}. Best is trial 31 with value: 1.0616031450241836.\n"
     ]
    },
    {
     "name": "stdout",
     "output_type": "stream",
     "text": [
      "Best value: 3.877917016168527 (params: {'x': 1.696442458843956, 'y': 1})\n",
      "\n",
      "Running additional trials in 2 seconds...\n"
     ]
    },
    {
     "name": "stderr",
     "output_type": "stream",
     "text": [
      "[I 2023-10-05 17:16:44,018] Trial 35 finished with value: 769.82489204199 and parameters: {'x': -27.727691790734944, 'y': 1}. Best is trial 31 with value: 1.0616031450241836.\n",
      "[I 2023-10-05 17:16:44,053] Trial 36 finished with value: 447.8544773186302 and parameters: {'x': -21.13893273840073, 'y': 1}. Best is trial 31 with value: 1.0616031450241836.\n",
      "[I 2023-10-05 17:16:44,090] Trial 37 finished with value: 1.0237368285344501 and parameters: {'x': -0.1540676102704592, 'y': 1}. Best is trial 37 with value: 1.0237368285344501.\n",
      "[I 2023-10-05 17:16:44,126] Trial 38 finished with value: 293.0572770080401 and parameters: {'x': -17.148098349614166, 'y': -1}. Best is trial 37 with value: 1.0237368285344501.\n",
      "[I 2023-10-05 17:16:44,161] Trial 39 finished with value: 394.4730258603865 and parameters: {'x': 19.83615451291874, 'y': 1}. Best is trial 37 with value: 1.0237368285344501.\n",
      "[I 2023-10-05 17:16:44,196] Trial 40 finished with value: 1210.5412008198284 and parameters: {'x': -34.80720041629071, 'y': -1}. Best is trial 37 with value: 1.0237368285344501.\n",
      "[I 2023-10-05 17:16:44,231] Trial 41 finished with value: 2.5301664572018883 and parameters: {'x': -1.2369989721911203, 'y': 1}. Best is trial 37 with value: 1.0237368285344501.\n",
      "[I 2023-10-05 17:16:44,267] Trial 42 finished with value: 17.413221799414472 and parameters: {'x': -4.051323462698884, 'y': 1}. Best is trial 37 with value: 1.0237368285344501.\n",
      "[I 2023-10-05 17:16:44,302] Trial 43 finished with value: 50.82701445719886 and parameters: {'x': 7.058825288757249, 'y': 1}. Best is trial 37 with value: 1.0237368285344501.\n",
      "[I 2023-10-05 17:16:44,337] Trial 44 finished with value: 333.8404667554091 and parameters: {'x': -18.243915883258428, 'y': 1}. Best is trial 37 with value: 1.0237368285344501.\n",
      "[I 2023-10-05 17:16:44,372] Trial 45 finished with value: 202.53394192034065 and parameters: {'x': 14.19626506938852, 'y': 1}. Best is trial 37 with value: 1.0237368285344501.\n",
      "[I 2023-10-05 17:16:44,408] Trial 46 finished with value: 2.050895826907023 and parameters: {'x': -1.7466813753249397, 'y': -1}. Best is trial 37 with value: 1.0237368285344501.\n",
      "[I 2023-10-05 17:16:44,443] Trial 47 finished with value: 29.786074409318292 and parameters: {'x': -5.548520019727629, 'y': -1}. Best is trial 37 with value: 1.0237368285344501.\n",
      "[I 2023-10-05 17:16:44,478] Trial 48 finished with value: 909.3748219095471 and parameters: {'x': 30.172418231052465, 'y': -1}. Best is trial 37 with value: 1.0237368285344501.\n",
      "[I 2023-10-05 17:16:44,514] Trial 49 finished with value: 1457.7063307354867 and parameters: {'x': -38.19301416143385, 'y': -1}. Best is trial 37 with value: 1.0237368285344501.\n",
      "[I 2023-10-05 17:16:44,550] Trial 50 finished with value: 517.8907188916417 and parameters: {'x': -22.77917291939375, 'y': -1}. Best is trial 37 with value: 1.0237368285344501.\n",
      "[I 2023-10-05 17:16:44,587] Trial 51 finished with value: 5.93375602957351 and parameters: {'x': -2.633202618404727, 'y': -1}. Best is trial 37 with value: 1.0237368285344501.\n",
      "[I 2023-10-05 17:16:44,624] Trial 52 finished with value: 127.04369817760666 and parameters: {'x': 11.226918463122757, 'y': 1}. Best is trial 37 with value: 1.0237368285344501.\n",
      "[I 2023-10-05 17:16:44,661] Trial 53 finished with value: 180.85281666837676 and parameters: {'x': -13.410921544337539, 'y': 1}. Best is trial 37 with value: 1.0237368285344501.\n",
      "[I 2023-10-05 17:16:44,698] Trial 54 finished with value: 2.980847850334797 and parameters: {'x': -1.407425966200282, 'y': 1}. Best is trial 37 with value: 1.0237368285344501.\n",
      "[I 2023-10-05 17:16:44,733] Trial 55 finished with value: 62.593075951521335 and parameters: {'x': -7.974526691379328, 'y': -1}. Best is trial 37 with value: 1.0237368285344501.\n",
      "[I 2023-10-05 17:16:44,770] Trial 56 finished with value: 390.4112814531678 and parameters: {'x': 19.73350656759127, 'y': 1}. Best is trial 37 with value: 1.0237368285344501.\n",
      "[I 2023-10-05 17:16:44,806] Trial 57 finished with value: 740.1335249697189 and parameters: {'x': -27.187010224916584, 'y': 1}. Best is trial 37 with value: 1.0237368285344501.\n",
      "[I 2023-10-05 17:16:44,843] Trial 58 finished with value: 79.60620145010577 and parameters: {'x': 8.922230744051948, 'y': 0}. Best is trial 37 with value: 1.0237368285344501.\n",
      "[I 2023-10-05 17:16:44,879] Trial 59 finished with value: 7.5000094819431595 and parameters: {'x': -2.5495116163577602, 'y': 1}. Best is trial 37 with value: 1.0237368285344501.\n",
      "[I 2023-10-05 17:16:44,915] Trial 60 finished with value: 136.86245968113795 and parameters: {'x': -11.656005305469707, 'y': 1}. Best is trial 37 with value: 1.0237368285344501.\n",
      "[I 2023-10-05 17:16:44,951] Trial 61 finished with value: 1.0121617711302702 and parameters: {'x': 0.11028042043023856, 'y': 1}. Best is trial 61 with value: 1.0121617711302702.\n",
      "[I 2023-10-05 17:16:44,988] Trial 62 finished with value: 1.442490527628274 and parameters: {'x': -0.6651996148738166, 'y': 1}. Best is trial 61 with value: 1.0121617711302702.\n",
      "[I 2023-10-05 17:16:45,024] Trial 63 finished with value: 186.79761593555102 and parameters: {'x': 13.630759917757741, 'y': 1}. Best is trial 61 with value: 1.0121617711302702.\n",
      "[I 2023-10-05 17:16:45,060] Trial 64 finished with value: 94.32023306773085 and parameters: {'x': -9.660239803841872, 'y': 1}. Best is trial 61 with value: 1.0121617711302702.\n",
      "[I 2023-10-05 17:16:45,097] Trial 65 finished with value: 60.758725402826194 and parameters: {'x': 7.730376795656612, 'y': 1}. Best is trial 61 with value: 1.0121617711302702.\n",
      "[I 2023-10-05 17:16:45,133] Trial 66 finished with value: 342.42571204802863 and parameters: {'x': -18.47770851723851, 'y': 1}. Best is trial 61 with value: 1.0121617711302702.\n",
      "[I 2023-10-05 17:16:45,169] Trial 67 finished with value: 3.6609380589539984 and parameters: {'x': -1.9133577968989486, 'y': 0}. Best is trial 61 with value: 1.0121617711302702.\n",
      "[I 2023-10-05 17:16:45,205] Trial 68 finished with value: 3.0280364488640465 and parameters: {'x': 1.4240914468053119, 'y': 1}. Best is trial 61 with value: 1.0121617711302702.\n",
      "[I 2023-10-05 17:16:45,243] Trial 69 finished with value: 201.88424053658386 and parameters: {'x': -14.243743908698438, 'y': -1}. Best is trial 61 with value: 1.0121617711302702.\n",
      "[I 2023-10-05 17:16:45,280] Trial 70 finished with value: 606.3798455277077 and parameters: {'x': 24.60446799928232, 'y': 1}. Best is trial 61 with value: 1.0121617711302702.\n",
      "[I 2023-10-05 17:16:45,318] Trial 71 finished with value: 8.28143764276545 and parameters: {'x': 2.69841391242438, 'y': 1}. Best is trial 61 with value: 1.0121617711302702.\n",
      "[I 2023-10-05 17:16:45,353] Trial 72 finished with value: 25.984321719272426 and parameters: {'x': -4.998431926041649, 'y': 1}. Best is trial 61 with value: 1.0121617711302702.\n",
      "[I 2023-10-05 17:16:45,391] Trial 73 finished with value: 106.73932234376738 and parameters: {'x': 10.282962722083912, 'y': 1}. Best is trial 61 with value: 1.0121617711302702.\n",
      "[I 2023-10-05 17:16:45,429] Trial 74 finished with value: 290.1601333061218 and parameters: {'x': 17.004709150882935, 'y': 1}. Best is trial 61 with value: 1.0121617711302702.\n",
      "[I 2023-10-05 17:16:45,464] Trial 75 finished with value: 71.71827356507725 and parameters: {'x': -8.409415768356162, 'y': 1}. Best is trial 61 with value: 1.0121617711302702.\n",
      "[I 2023-10-05 17:16:45,501] Trial 76 finished with value: 26.041835457947816 and parameters: {'x': 5.004181797052123, 'y': 1}. Best is trial 61 with value: 1.0121617711302702.\n",
      "[I 2023-10-05 17:16:45,538] Trial 77 finished with value: 1.15319649569249 and parameters: {'x': -0.39140323924629206, 'y': 1}. Best is trial 61 with value: 1.0121617711302702.\n",
      "[I 2023-10-05 17:16:45,573] Trial 78 finished with value: 431.3766553593024 and parameters: {'x': -20.745521332550368, 'y': 1}. Best is trial 61 with value: 1.0121617711302702.\n",
      "[I 2023-10-05 17:16:45,608] Trial 79 finished with value: 155.77754127492975 and parameters: {'x': -12.481087343454085, 'y': 0}. Best is trial 61 with value: 1.0121617711302702.\n",
      "[I 2023-10-05 17:16:45,644] Trial 80 finished with value: 43.01017634069109 and parameters: {'x': 6.481525772585579, 'y': 1}. Best is trial 61 with value: 1.0121617711302702.\n",
      "[I 2023-10-05 17:16:45,681] Trial 81 finished with value: 1.0024587760679784 and parameters: {'x': -0.049586047109832165, 'y': 1}. Best is trial 81 with value: 1.0024587760679784.\n",
      "[I 2023-10-05 17:16:45,716] Trial 82 finished with value: 2.86620868790272 and parameters: {'x': 1.3660924887805803, 'y': 1}. Best is trial 81 with value: 1.0024587760679784.\n",
      "[I 2023-10-05 17:16:45,752] Trial 83 finished with value: 208.4375948197516 and parameters: {'x': 14.402694012571107, 'y': 1}. Best is trial 81 with value: 1.0024587760679784.\n",
      "[I 2023-10-05 17:16:45,788] Trial 84 finished with value: 47.43406210999743 and parameters: {'x': -6.814254332646928, 'y': 1}. Best is trial 81 with value: 1.0024587760679784.\n",
      "[I 2023-10-05 17:16:45,824] Trial 85 finished with value: 114.59787460664766 and parameters: {'x': 10.751645204648806, 'y': -1}. Best is trial 81 with value: 1.0024587760679784.\n"
     ]
    },
    {
     "name": "stdout",
     "output_type": "stream",
     "text": [
      "Best value: 1.0024587760679784 (params: {'x': -0.049586047109832165, 'y': 1})\n",
      "\n"
     ]
    }
   ],
   "source": [
    "import optuna\n",
    "\n",
    "\n",
    "# Define a simple 2-dimensional objective function whose minimum value is -1 when (x, y) = (0, -1).\n",
    "def objective(trial):\n",
    "    x = trial.suggest_float(\"x\", -100, 100)\n",
    "    y = trial.suggest_categorical(\"y\", [-1, 0, 1])\n",
    "    return x**2 + y\n",
    "\n",
    "\n",
    "if __name__ == \"__main__\":\n",
    "    # Let us minimize the objective function above.\n",
    "    print(\"Running 10 trials...\")\n",
    "    study = optuna.create_study(storage=\"sqlite:///db.sqlite3\")\n",
    "    study.optimize(objective, n_trials=10)\n",
    "    print(\"Best value: {} (params: {})\\n\".format(study.best_value, study.best_params))\n",
    "\n",
    "    # We can continue the optimization as follows.\n",
    "    print(\"Running 20 additional trials...\")\n",
    "    study.optimize(objective, n_trials=20)\n",
    "    print(\"Best value: {} (params: {})\\n\".format(study.best_value, study.best_params))\n",
    "\n",
    "    # We can specify the timeout instead of a number of trials.\n",
    "    print(\"Running additional trials in 2 seconds...\")\n",
    "    study.optimize(objective, timeout=2.0)\n",
    "    print(\"Best value: {} (params: {})\\n\".format(study.best_value, study.best_params))"
   ]
  },
  {
   "cell_type": "code",
   "execution_count": null,
   "id": "1bc799fb-e929-467a-aa48-4b196932b221",
   "metadata": {},
   "outputs": [],
   "source": []
  }
 ],
 "metadata": {
  "kernelspec": {
   "display_name": "Python 3 (ipykernel)",
   "language": "python",
   "name": "python3"
  },
  "language_info": {
   "codemirror_mode": {
    "name": "ipython",
    "version": 3
   },
   "file_extension": ".py",
   "mimetype": "text/x-python",
   "name": "python",
   "nbconvert_exporter": "python",
   "pygments_lexer": "ipython3",
   "version": "3.11.4"
  }
 },
 "nbformat": 4,
 "nbformat_minor": 5
}
