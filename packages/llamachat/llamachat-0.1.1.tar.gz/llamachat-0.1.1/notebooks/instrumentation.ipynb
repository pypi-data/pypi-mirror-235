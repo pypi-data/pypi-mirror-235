{
 "cells": [
  {
   "cell_type": "code",
   "execution_count": 4,
   "id": "a77a65a5",
   "metadata": {},
   "outputs": [],
   "source": [
    "import os\n",
    "from langsmith.run_trees import RunTree\n",
    "\n",
    "os.environ[\"LANGCHAIN_PROJECT\"] = \"pycon23\""
   ]
  },
  {
   "cell_type": "code",
   "execution_count": 5,
   "id": "9edf029e",
   "metadata": {},
   "outputs": [
    {
     "data": {
      "text/plain": [
       "'Hello! How can I assist you today?'"
      ]
     },
     "execution_count": 5,
     "metadata": {},
     "output_type": "execute_result"
    }
   ],
   "source": [
    "from langchain.chat_models import ChatOpenAI\n",
    "\n",
    "llm = ChatOpenAI()\n",
    "llm.predict(\"Hello, world!\")"
   ]
  },
  {
   "cell_type": "markdown",
   "id": "61b6277d",
   "metadata": {},
   "source": [
    "permitted run_types: [tool', 'chain', 'llm', 'retriever', 'embedding', 'prompt', 'parser']"
   ]
  },
  {
   "cell_type": "code",
   "execution_count": 11,
   "id": "c6d78ba6",
   "metadata": {},
   "outputs": [],
   "source": [
    "parent_run = RunTree(\n",
    "    name=\"My Chat Bot\",\n",
    "    run_type=\"chain\",\n",
    "    inputs={\"text\": \"Summarize this morning's meetings.\"},\n",
    "    serialized={}\n",
    ")\n",
    "\n",
    "child_llm_run = parent_run.create_child(\n",
    "    name=\"My Proprietary LLM\",\n",
    "    run_type=\"retriever\",\n",
    "    inputs={\n",
    "        \"prompts\": [\n",
    "            \"You are an AI Assistant. Summarize this morning's meetings.\"\n",
    "        ]\n",
    "    },\n",
    ")\n",
    "\n",
    "child_llm_run.end(outputs={\"generations\": [\"Summary of the meeting...\"]})\n",
    "parent_run.end(outputs={\"output\": [\"The meeting notes are as follows:...\"]})\n",
    "\n",
    "res = parent_run.post(exclude_child_runs=False)\n",
    "res.result()"
   ]
  },
  {
   "cell_type": "code",
   "execution_count": 7,
   "id": "248574b0",
   "metadata": {},
   "outputs": [
    {
     "data": {
      "text/plain": [
       "UUID('2e128808-9206-41dd-a6f6-03661ca8f972')"
      ]
     },
     "execution_count": 7,
     "metadata": {},
     "output_type": "execute_result"
    }
   ],
   "source": [
    "parent_run.id"
   ]
  },
  {
   "cell_type": "code",
   "execution_count": 16,
   "id": "220df5a3",
   "metadata": {},
   "outputs": [
    {
     "data": {
      "text/plain": [
       "Feedback(id=UUID('9a5b6387-00b9-4e79-a93b-baea9275331a'), created_at=datetime.datetime(2023, 9, 28, 10, 9, 28, 350759, tzinfo=datetime.timezone.utc), modified_at=datetime.datetime(2023, 9, 28, 10, 9, 28, 350766, tzinfo=datetime.timezone.utc), run_id=UUID('d96edc39-e89d-4d55-8bd4-32cd5b7b268f'), key='human_feedback', score=None, value='like', comment=None, correction=None, feedback_source=FeedbackSourceBase(type='model', metadata={}))"
      ]
     },
     "execution_count": 16,
     "metadata": {},
     "output_type": "execute_result"
    }
   ],
   "source": [
    "from langsmith import Client\n",
    "\n",
    "client = Client()\n",
    "client.create_feedback(\n",
    "    parent_run.id,\n",
    "    \"human_feedback\",\n",
    "    value = \"like\",\n",
    "    feedback_source_type=\"model\"\n",
    ")"
   ]
  },
  {
   "cell_type": "code",
   "execution_count": null,
   "id": "1ec47d40",
   "metadata": {},
   "outputs": [],
   "source": []
  }
 ],
 "metadata": {
  "kernelspec": {
   "display_name": "Python 3 (ipykernel)",
   "language": "python",
   "name": "python3"
  },
  "language_info": {
   "codemirror_mode": {
    "name": "ipython",
    "version": 3
   },
   "file_extension": ".py",
   "mimetype": "text/x-python",
   "name": "python",
   "nbconvert_exporter": "python",
   "pygments_lexer": "ipython3",
   "version": "3.10.12"
  }
 },
 "nbformat": 4,
 "nbformat_minor": 5
}
