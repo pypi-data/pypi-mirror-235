{
 "cells": [
  {
   "cell_type": "markdown",
   "metadata": {},
   "source": [
    "# Walkthrough 5: Experimentation and batch jobs #\n",
    " "
   ]
  },
  {
   "cell_type": "markdown",
   "metadata": {},
   "source": [
    "## Introduction ##"
   ]
  },
  {
   "cell_type": "markdown",
   "metadata": {},
   "source": [
    "While results from a single job of the Oqtant hardware are often interesting, commonly multiple jobs are needed to either average results or to scan control parameters to map out dependencies and trends.  In this walkthrough, we will explore ways of submitting and managing lists of *QuantumMatter* objects and resulting *OqtantJob*s.  "
   ]
  },
  {
   "cell_type": "markdown",
   "metadata": {},
   "source": [
    "### Imports and user authentication ###"
   ]
  },
  {
   "cell_type": "code",
   "execution_count": null,
   "metadata": {},
   "outputs": [],
   "source": [
    "from oqtant.schemas.quantum_matter import QuantumMatterFactory as qmf\n",
    "from oqtant.oqtant_client import get_oqtant_client\n",
    "from oqtant.util.auth import notebook_login\n",
    "import matplotlib.pyplot as plt\n",
    "\n",
    "oqtant_account = notebook_login()\n",
    "oqtant_account"
   ]
  },
  {
   "cell_type": "code",
   "execution_count": null,
   "metadata": {},
   "outputs": [],
   "source": [
    "client = get_oqtant_client(oqtant_account.access_token)"
   ]
  },
  {
   "cell_type": "markdown",
   "metadata": {},
   "source": [
    "## Submitting a list of QuantumMatter objects to generate many independent jobs ##"
   ]
  },
  {
   "cell_type": "markdown",
   "metadata": {},
   "source": [
    "While it is possible to construct QuantumMatter objects one at a time and submit them to Oqtant QMS (via the OqtantClient) individually, one can also submit many objects at once.  Here, we will demonstrate how to create such a list, each element with individually tuned inputs, and submit this list to generate many jobs in one go."
   ]
  },
  {
   "cell_type": "markdown",
   "metadata": {},
   "source": [
    "### Creating a list of QuantumMatter objects ###"
   ]
  },
  {
   "cell_type": "markdown",
   "metadata": {},
   "source": [
    "  Let us begin by making a list of *QuantumMatter* objects that each have a different target temperature. "
   ]
  },
  {
   "cell_type": "code",
   "execution_count": null,
   "metadata": {},
   "outputs": [],
   "source": [
    "N = 2\n",
    "matters = [\n",
    "    qmf.create_quantum_matter(\n",
    "        temperature=50 * (n + 1), name=\"quantum matter run \" + str(n + 1) + \"/\" + str(N)\n",
    "    )\n",
    "    for n in range(N)\n",
    "]\n",
    "\n",
    "print(list(map(type, matters)))"
   ]
  },
  {
   "cell_type": "markdown",
   "metadata": {},
   "source": [
    "### Submitting the list to the client ###"
   ]
  },
  {
   "cell_type": "markdown",
   "metadata": {},
   "source": [
    "We can then submit the list to the *client*.  In this case, the `OqtantClient.submit_list()` method generates many independent jobs to be run on the hardware and returns a corresponding list of job *id*s.  Each of these jobs enters Oqtant's queueing system at nearly the same time, so they will *likely* be executed near each other in time, depending on current queue usage."
   ]
  },
  {
   "cell_type": "code",
   "execution_count": null,
   "metadata": {},
   "outputs": [],
   "source": [
    "my_job_ids = client.submit_list(matter_list=matters, track=True)"
   ]
  },
  {
   "cell_type": "markdown",
   "metadata": {},
   "source": [
    "### Accessing job results ###"
   ]
  },
  {
   "cell_type": "markdown",
   "metadata": {},
   "source": [
    "Once all our submitted jobs are complete, we access the results in exactly the same way we would do had we submitted the programs individually:"
   ]
  },
  {
   "cell_type": "code",
   "execution_count": null,
   "metadata": {},
   "outputs": [],
   "source": [
    "# retrieve jobs from server one at a time, creating corresponding local job objects\n",
    "my_jobs = [client.get_job(id) for id in my_job_ids]\n",
    "\n",
    "# access the results individually and plot them together\n",
    "lns = []\n",
    "lbls = []\n",
    "plt.figure(figsize=(5, 4))\n",
    "for job in my_jobs:\n",
    "    (ln,) = plt.plot(job.get_slice(axis=\"x\"))\n",
    "    plt.xlabel(\"x position (pixels)\")\n",
    "    plt.ylabel(\"OD\")\n",
    "    lns.append(ln)\n",
    "    lbls.append(str(job.output.temperature_nk))\n",
    "plt.legend(lns, lbls, loc=\"upper right\", title=\"temp (nK)\")\n",
    "plt.show()\n",
    "\n",
    "plt.figure(figsize=(5, 4))\n",
    "plt.plot(\n",
    "    [job.output.temperature_nk for job in my_jobs],\n",
    "    [\n",
    "        100 * job.output.condensed_atom_number / job.output.tof_atom_number\n",
    "        if job.output.tof_atom_number > 0\n",
    "        else 0\n",
    "        for job in my_jobs\n",
    "    ],\n",
    "    \"-o\",\n",
    ")\n",
    "plt.xlabel(\"temperature (nK)\")\n",
    "plt.ylabel(\"condensed fraction (%)\")\n",
    "plt.show()"
   ]
  },
  {
   "cell_type": "markdown",
   "metadata": {},
   "source": [
    "## Submitting a list of QuantumMatter objects to generate a single \"batch\" job ##"
   ]
  },
  {
   "cell_type": "markdown",
   "metadata": {},
   "source": [
    "There is also the option to submit a list of QuantumMatter objects as a single *batch* job, which guarantees that the sequence executes sequentially on the hardware.  This feature is useful for detailed experimentation or investigation, where subsequent shots need to be compared to each other in detail.  Using sequential hardware shots reduces system drift or inconsistency.  In the case of bundling into a single batch job, only one job id will be generated.  Programmatically, the batch job will be composed of multiple *run*s on Oqtant's hardware, and retrieving job results (see below) will require specifying the run number $1 \\ldots N$ when fetching the job results, where there were $N$ runs in the job.    \n",
    "\n",
    "NOTE: The resulting name of a batch job will default to the name given to the first QuantumMatter object in the provided list.  Alternatively, a global name can be provided at the point of submission to the client.  Also be aware that for a batch job each individual *run* is charged against your job quota.  A single batch job will naturally contain multiple runs."
   ]
  },
  {
   "cell_type": "markdown",
   "metadata": {},
   "source": [
    "### Creating a list of QuantumMatter objects ###"
   ]
  },
  {
   "cell_type": "code",
   "execution_count": null,
   "metadata": {},
   "outputs": [],
   "source": [
    "# create a list of QuantumMatter objects\n",
    "N = 2\n",
    "matters = [\n",
    "    qmf.create_quantum_matter(temperature=50 * (n + 1), name=str(n + 1) + \"/\" + str(N))\n",
    "    for n in range(N)\n",
    "]"
   ]
  },
  {
   "cell_type": "markdown",
   "metadata": {},
   "source": [
    "### Submitting the list to the client as a batch job ###"
   ]
  },
  {
   "cell_type": "markdown",
   "metadata": {},
   "source": [
    "We can now submit our list of *QuantumMatter* objects to generate a batch job using the `OqtantClient.submit_list_as_batch()` method:"
   ]
  },
  {
   "cell_type": "code",
   "execution_count": null,
   "metadata": {},
   "outputs": [],
   "source": [
    "# submit the list as a batch that will run sequentially on the hardware\n",
    "# returns only a single job id, e.g., \"1cdb4ff7-c5ed-46d3-a667-8b12f0cd1349\"\n",
    "my_batch_job_id = client.submit_list_as_batch(\n",
    "    matter_list=matters,\n",
    "    name=\"a batch!\",  # global batch name\n",
    ")"
   ]
  },
  {
   "cell_type": "markdown",
   "metadata": {},
   "source": [
    "### Accessing batch job results ###"
   ]
  },
  {
   "cell_type": "markdown",
   "metadata": {},
   "source": [
    "We can now retrieve the batch job run results one at a time by specifying the desired run number in the `OqtantClient.get_job()` method.  If omitted (as for non-batch jobs with just a single run), the data for the first run will be fetched.  \n",
    "\n",
    "NOTE: The added complication of managing multiple runs within a single job is is an unavoidable consequence of ensuring that the runs execute sequentially on the hardware."
   ]
  },
  {
   "cell_type": "code",
   "execution_count": null,
   "metadata": {},
   "outputs": [],
   "source": [
    "# create local jobs based on single runs of the batch job\n",
    "first_run = client.get_job(job_id=my_batch_job_id, run=1)\n",
    "second_run = client.get_job(job_id=my_batch_job_id, run=2)"
   ]
  },
  {
   "cell_type": "code",
   "execution_count": null,
   "metadata": {},
   "outputs": [],
   "source": [
    "print(first_run.id, \"run\", first_run.inputs[0].run, \"of\", first_run.input_count)\n",
    "print(second_run.id, \"run\", second_run.inputs[0].run, \"of\", second_run.input_count)\n",
    "\n",
    "print(first_run.output.temperature_nk)\n",
    "print(second_run.output.temperature_nk)"
   ]
  },
  {
   "cell_type": "markdown",
   "metadata": {},
   "source": [
    "We can plot the results together, as above, but augment our approach at extracting the data:"
   ]
  },
  {
   "cell_type": "code",
   "execution_count": null,
   "metadata": {},
   "outputs": [],
   "source": [
    "my_runs = []\n",
    "for n in range(N):\n",
    "    my_runs.append(client.get_job(job_id=my_batch_job_id, run=n + 1))\n",
    "\n",
    "lns = []\n",
    "lbls = []\n",
    "plt.figure(figsize=(5, 4))\n",
    "for run in my_runs:\n",
    "    (ln,) = plt.plot(run.get_slice(axis=\"x\"))\n",
    "    plt.xlabel(\"x position (pixels)\")\n",
    "    plt.ylabel(\"OD\")\n",
    "    lns.append(ln)\n",
    "    lbls.append(str(run.output.temperature_nk))\n",
    "plt.legend(lns, lbls, loc=\"upper right\", title=\"temp (nK)\")\n",
    "plt.show()\n",
    "\n",
    "plt.figure(figsize=(5, 4))\n",
    "plt.plot(\n",
    "    [run.output.temperature_nk for run in my_runs],\n",
    "    [\n",
    "        100 * run.output.condensed_atom_number / run.output.tof_atom_number\n",
    "        if run.output.tof_atom_number > 0\n",
    "        else 0\n",
    "        for run in my_runs\n",
    "    ],\n",
    "    \"-o\",\n",
    ")\n",
    "plt.xlabel(\"temperature (nK)\")\n",
    "plt.ylabel(\"condensed fraction (%)\")\n",
    "plt.show()"
   ]
  },
  {
   "cell_type": "markdown",
   "metadata": {},
   "source": [
    "### Saving batch job results ###"
   ]
  },
  {
   "cell_type": "markdown",
   "metadata": {},
   "source": [
    "When we fetch results from a batch job, our instantiated local job only contains output data for the specified run.  However, fetching multiple runs will result in many local jobs that share the same job id.  When saving the data associated with these jobs, the job id (which is used as the default filename) is therefore not unique.  "
   ]
  },
  {
   "cell_type": "code",
   "execution_count": null,
   "metadata": {},
   "outputs": [],
   "source": [
    "client.write_job_to_file(first_run)\n",
    "client.write_job_to_file(second_run)"
   ]
  },
  {
   "cell_type": "markdown",
   "metadata": {},
   "source": [
    "In this case, the `OqtantClient.write_job_to_file()` method automatically appends the run information in the format *id_run_n_of_N.txt*."
   ]
  }
 ],
 "metadata": {
  "kernelspec": {
   "display_name": "Python 3 (ipykernel)",
   "language": "python",
   "name": "python3"
  },
  "language_info": {
   "codemirror_mode": {
    "name": "ipython",
    "version": 3
   },
   "file_extension": ".py",
   "mimetype": "text/x-python",
   "name": "python",
   "nbconvert_exporter": "python",
   "pygments_lexer": "ipython3",
   "version": "3.10.12"
  }
 },
 "nbformat": 4,
 "nbformat_minor": 2
}
