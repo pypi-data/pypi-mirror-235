{
 "cells": [
  {
   "cell_type": "code",
   "execution_count": null,
   "metadata": {},
   "outputs": [],
   "source": [
    "%pip install langfuse openai"
   ]
  },
  {
   "cell_type": "code",
   "execution_count": 10,
   "metadata": {},
   "outputs": [],
   "source": [
    "from langchain_wenxin.llms import Wenxin\n",
    "from langchain_wenxin.chat_models import ChatWenxin\n",
    "\n",
    "from langchain.schema import HumanMessage\n",
    "from langchain.chains import LLMChain\n",
    "from langchain.prompts import PromptTemplate\n",
    "from langfuse.callback import CallbackHandler\n"
   ]
  },
  {
   "cell_type": "code",
   "execution_count": 2,
   "metadata": {},
   "outputs": [],
   "source": [
    "import getpass\n",
    "baidu_api_key = getpass.getpass(\"Baidu API Key:\")\n",
    "baidu_secret_key = getpass.getpass(\"Baidu Secret Key:\")"
   ]
  },
  {
   "cell_type": "code",
   "execution_count": 8,
   "metadata": {},
   "outputs": [],
   "source": [
    "openai_api_key = getpass.getpass(\"OpenAI API Key:\")"
   ]
  },
  {
   "cell_type": "code",
   "execution_count": 5,
   "metadata": {},
   "outputs": [],
   "source": [
    "handler = CallbackHandler(\"pk-lf-84078222-26c1-43a7-9b2c-ed6c3fa17656\",\"sk-lf-f8e7d963-34a7-4150-8417-31797d6368f0\", \"http://localhost:3000\")\n",
    "prompt=PromptTemplate.from_template(\"写一首{season}的诗歌。\")\n",
    "llm = Wenxin(baidu_api_key=baidu_api_key, baidu_secret_key=baidu_secret_key, callbacks=[handler], temperature=0.3)"
   ]
  },
  {
   "cell_type": "code",
   "execution_count": 12,
   "metadata": {},
   "outputs": [
    {
     "data": {
      "text/plain": [
       "AIMessage(content='你好！有什么我可以帮助你的吗？', additional_kwargs={}, example=False)"
      ]
     },
     "execution_count": 12,
     "metadata": {},
     "output_type": "execute_result"
    }
   ],
   "source": [
    "from langchain_wenxin.chat_models import ChatWenxin\n",
    "chat = ChatWenxin(baidu_api_key=baidu_api_key, baidu_secret_key=baidu_secret_key, callbacks=[handler], temperature=0.3)\n",
    "chat([HumanMessage(content=\"你好。\")]) # type: ignore"
   ]
  },
  {
   "cell_type": "code",
   "execution_count": 7,
   "metadata": {},
   "outputs": [
    {
     "data": {
      "text/plain": [
       "'你好！有什么我可以帮助你的吗？'"
      ]
     },
     "execution_count": 7,
     "metadata": {},
     "output_type": "execute_result"
    }
   ],
   "source": [
    "llm(\"你好\")"
   ]
  },
  {
   "cell_type": "code",
   "execution_count": 9,
   "metadata": {},
   "outputs": [
    {
     "data": {
      "text/plain": [
       "'！我是小美，很高兴认识你。我是一位AI助手，可以回答你的问题，帮助你解决困难。有什么可以为你效劳的吗？'"
      ]
     },
     "execution_count": 9,
     "metadata": {},
     "output_type": "execute_result"
    }
   ],
   "source": [
    "from langchain.llms import OpenAI\n",
    "openai = OpenAI(model=\"gpt-3.5-turbo-instruct\", openai_api_key=openai_api_key, callbacks=[handler])\n",
    "openai(\"你好\")"
   ]
  },
  {
   "cell_type": "code",
   "execution_count": 13,
   "metadata": {},
   "outputs": [
    {
     "data": {
      "text/plain": [
       "AIMessage(content='你好！有什么我可以帮助您的吗？', additional_kwargs={}, example=False)"
      ]
     },
     "execution_count": 13,
     "metadata": {},
     "output_type": "execute_result"
    }
   ],
   "source": [
    "from langchain.chat_models import ChatOpenAI\n",
    "openai_chat = ChatOpenAI(model=\"gpt-3.5-turbo\", openai_api_key=openai_api_key, callbacks=[handler])\n",
    "openai_chat([HumanMessage(content=\"你好。\")]) # type: ignore"
   ]
  }
 ],
 "metadata": {
  "kernelspec": {
   "display_name": "langchain-wenxin",
   "language": "python",
   "name": "python3"
  },
  "language_info": {
   "codemirror_mode": {
    "name": "ipython",
    "version": 3
   },
   "file_extension": ".py",
   "mimetype": "text/x-python",
   "name": "python",
   "nbconvert_exporter": "python",
   "pygments_lexer": "ipython3",
   "version": "3.11.3"
  },
  "orig_nbformat": 4
 },
 "nbformat": 4,
 "nbformat_minor": 2
}
