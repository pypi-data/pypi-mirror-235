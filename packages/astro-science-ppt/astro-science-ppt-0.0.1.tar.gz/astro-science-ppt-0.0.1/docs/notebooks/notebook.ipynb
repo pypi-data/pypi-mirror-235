{
 "cells": [
  {
   "cell_type": "markdown",
   "id": "accepting-editor",
   "metadata": {
    "cell_marker": "\"\"\""
   },
   "source": [
    "# Sample Jupyter Notebook\n",
    "\n",
    "_(The example used here is based on [6. Photometry](https://allendowney.github.io/AstronomicalData/06_photo.html))_"
   ]
  },
  {
   "cell_type": "markdown",
   "id": "b078da1b",
   "metadata": {},
   "source": [
    "First, set up the environment:"
   ]
  },
  {
   "cell_type": "code",
   "execution_count": null,
   "id": "actual-thirty",
   "metadata": {},
   "outputs": [],
   "source": [
    "import matplotlib\n",
    "import matplotlib.pyplot as plt\n",
    "\n",
    "try:\n",
    "    from IPython import get_ipython\n",
    "    get_ipython().run_line_magic('matplotlib', 'inline')\n",
    "except AttributeError:\n",
    "    print('Magic function can only be used in IPython environment')\n",
    "    matplotlib.use('Agg')\n",
    "\n",
    "plt.rcParams[\"figure.figsize\"] = [15, 8]"
   ]
  },
  {
   "cell_type": "markdown",
   "id": "coral-upper",
   "metadata": {
    "cell_marker": "\"\"\"",
    "lines_to_next_cell": 1
   },
   "source": [
    "Then, define a function that creates a pretty graph:"
   ]
  },
  {
   "cell_type": "code",
   "execution_count": null,
   "id": "funded-protection",
   "metadata": {
    "lines_to_next_cell": 1
   },
   "outputs": [],
   "source": [
    "def plot_cmd(table):\n",
    "    \"\"\"Plot a color magnitude diagram.\n",
    "    \n",
    "    table: Table or DataFrame with photometry data\n",
    "    \"\"\"\n",
    "    y = table['g_mean_psf_mag']\n",
    "    x = table['g_mean_psf_mag'] - table['i_mean_psf_mag']\n",
    "\n",
    "    plt.plot(x, y, 'ko', markersize=0.6, alpha=0.3)\n",
    "\n",
    "    plt.xlim([0, 1.5])\n",
    "    plt.ylim([14, 22])\n",
    "    plt.gca().invert_yaxis()\n",
    "\n",
    "    plt.ylabel('$Magnitude (g)$')\n",
    "    plt.xlabel('$Color (g-i)$')"
   ]
  },
  {
   "cell_type": "markdown",
   "id": "thorough-cutting",
   "metadata": {
    "cell_marker": "\"\"\""
   },
   "source": [
    "Finally, call that function to display the graph:"
   ]
  },
  {
   "cell_type": "code",
   "execution_count": null,
   "id": "67d5f3ee",
   "metadata": {},
   "outputs": [],
   "source": [
    "import os\n",
    "import pandas as pd\n",
    "\n",
    "from pathlib import Path\n",
    "\n",
    "test_dir = os.path.dirname(os.path.dirname(Path().resolve()))\n",
    "path = os.path.join(test_dir, \"data\", \"gd1_data.csv\")\n",
    "df = pd.read_csv(path)"
   ]
  },
  {
   "cell_type": "code",
   "execution_count": null,
   "id": "imported-uruguay",
   "metadata": {},
   "outputs": [],
   "source": [
    "plot_cmd(df)"
   ]
  }
 ],
 "metadata": {
  "jupytext": {
   "cell_markers": "\"\"\""
  },
  "kernelspec": {
   "display_name": "Python 3",
   "language": "python",
   "name": "python3"
  },
  "language_info": {
   "codemirror_mode": {
    "name": "ipython",
    "version": 3
   },
   "file_extension": ".py",
   "mimetype": "text/x-python",
   "name": "python",
   "nbconvert_exporter": "python",
   "pygments_lexer": "ipython3",
   "version": "3.11.3"
  }
 },
 "nbformat": 4,
 "nbformat_minor": 5
}
