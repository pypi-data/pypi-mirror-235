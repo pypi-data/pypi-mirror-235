{
 "cells": [
  {
   "cell_type": "code",
   "execution_count": 4,
   "metadata": {},
   "outputs": [],
   "source": [
    "import srsly\n",
    "from tqdm import tqdm"
   ]
  },
  {
   "cell_type": "code",
   "execution_count": 5,
   "metadata": {},
   "outputs": [],
   "source": [
    "samples = srsly.read_jsonl('data/retrieval/paths.jsonl')\n",
    "filtered_paths = []"
   ]
  },
  {
   "cell_type": "code",
   "execution_count": 7,
   "metadata": {},
   "outputs": [
    {
     "name": "stderr",
     "output_type": "stream",
     "text": [
      "100%|█████████▉| 11870/11872 [00:00<00:00, 123326.13it/s]\n"
     ]
    }
   ],
   "source": [
    "total = sum(1 for _ in srsly.read_jsonl('data/retrieval/paths.jsonl'))\n",
    "for sample in tqdm(samples, total=total):\n",
    "    paths = sample['paths']\n",
    "    if len(paths) == 0:\n",
    "        continue\n",
    "    paths = [path if isinstance(path, list) else [path] for path in paths]\n",
    "    sample['paths'] = paths\n",
    "    filtered_paths.append(sample)"
   ]
  },
  {
   "cell_type": "code",
   "execution_count": 8,
   "metadata": {},
   "outputs": [],
   "source": [
    "srsly.write_jsonl('data/retrieval/filtered_paths.jsonl', filtered_paths)"
   ]
  },
  {
   "attachments": {},
   "cell_type": "markdown",
   "metadata": {},
   "source": [
    "## Add space besides sharp sign"
   ]
  },
  {
   "cell_type": "code",
   "execution_count": 16,
   "metadata": {},
   "outputs": [
    {
     "name": "stderr",
     "output_type": "stream",
     "text": [
      "100%|██████████| 121252/121252 [00:01<00:00, 99222.76it/s] "
     ]
    },
    {
     "name": "stdout",
     "output_type": "stream",
     "text": [
      "There are 48804 outliers whose length is not 17.\n",
      "Their lengths are: {18, 19, 20, 21, 22, 23, 24}\n"
     ]
    },
    {
     "name": "stderr",
     "output_type": "stream",
     "text": [
      "\n"
     ]
    }
   ],
   "source": [
    "import json\n",
    "from tqdm import tqdm\n",
    "\n",
    "csv_path = 'data/retrieval/train.csv'\n",
    "output_path = 'data/retrieval/train.jsonl'\n",
    "\n",
    "outlier = 0\n",
    "lengths = set()\n",
    "with open(csv_path, 'r', encoding='utf-8') as fin, open(output_path, 'w', encoding='utf-8') as fout:\n",
    "    cnt = 0\n",
    "    for l in tqdm(fin, total=121252):\n",
    "        # cnt += 1\n",
    "        # if cnt == 10:\n",
    "        #     break\n",
    "        l = l.strip().split(',')\n",
    "        assert len(l) >= 17, f'len(l) = {len(l)}'\n",
    "        if len(l) != 17:\n",
    "            outlier += 1\n",
    "            lengths.add(len(l))\n",
    "            continue\n",
    "        record = {\n",
    "            'query': l[0].strip(),\n",
    "            'positive': l[1].strip(),\n",
    "            'negatives': [i.strip() for i in l[2:]] # 15\n",
    "        }\n",
    "        fout.write(json.dumps(record) + '\\n')\n",
    "print(f\"There are {outlier} outliers whose length is not 17.\")\n",
    "print(\"Their lengths are:\", lengths)"
   ]
  },
  {
   "cell_type": "code",
   "execution_count": 9,
   "metadata": {},
   "outputs": [],
   "source": [
    "import csv\n",
    "\n",
    "train_csv = csv.reader(open('data/retrieval/train.csv', 'r', encoding='utf-8'))"
   ]
  },
  {
   "cell_type": "code",
   "execution_count": null,
   "metadata": {},
   "outputs": [],
   "source": []
  }
 ],
 "metadata": {
  "kernelspec": {
   "display_name": "base",
   "language": "python",
   "name": "python3"
  },
  "language_info": {
   "codemirror_mode": {
    "name": "ipython",
    "version": 3
   },
   "file_extension": ".py",
   "mimetype": "text/x-python",
   "name": "python",
   "nbconvert_exporter": "python",
   "pygments_lexer": "ipython3",
   "version": "3.10.9"
  },
  "orig_nbformat": 4
 },
 "nbformat": 4,
 "nbformat_minor": 2
}
